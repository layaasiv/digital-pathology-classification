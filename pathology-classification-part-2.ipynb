{
 "cells": [
  {
   "cell_type": "code",
   "execution_count": 1,
   "id": "cf0e5767",
   "metadata": {
    "_cell_guid": "b1076dfc-b9ad-4769-8c92-a6c4dae69d19",
    "_uuid": "8f2839f25d086af736a60e9eeb907d3b93b6e0e5",
    "execution": {
     "iopub.execute_input": "2025-09-08T23:33:51.737200Z",
     "iopub.status.busy": "2025-09-08T23:33:51.736494Z",
     "iopub.status.idle": "2025-09-08T23:33:53.222493Z",
     "shell.execute_reply": "2025-09-08T23:33:53.221575Z"
    },
    "papermill": {
     "duration": 1.493315,
     "end_time": "2025-09-08T23:33:53.223872",
     "exception": false,
     "start_time": "2025-09-08T23:33:51.730557",
     "status": "completed"
    },
    "tags": []
   },
   "outputs": [
    {
     "name": "stdout",
     "output_type": "stream",
     "text": [
      "./digitalpathology/X_test.npy\n",
      "./digitalpathology/X.npy\n",
      "./digitalpathology/Y.npy\n"
     ]
    }
   ],
   "source": [
    "import numpy as np # linear algebra\n",
    "import pandas as pd # data processing, CSV file I/O (e.g. pd.read_csv)\n",
    "import os\n",
    "for dirname, _, filenames in os.walk('./digitalpathology'):\n",
    "    for filename in filenames:\n",
    "        print(os.path.join(dirname, filename))"
   ]
  },
  {
   "cell_type": "code",
   "execution_count": 2,
   "id": "17106f85",
   "metadata": {
    "execution": {
     "iopub.execute_input": "2025-09-08T23:33:53.234033Z",
     "iopub.status.busy": "2025-09-08T23:33:53.233290Z",
     "iopub.status.idle": "2025-09-08T23:34:08.918194Z",
     "shell.execute_reply": "2025-09-08T23:34:08.917338Z"
    },
    "papermill": {
     "duration": 15.691544,
     "end_time": "2025-09-08T23:34:08.919870",
     "exception": false,
     "start_time": "2025-09-08T23:33:53.228326",
     "status": "completed"
    },
    "tags": []
   },
   "outputs": [],
   "source": [
    "from fastai.vision.all import *"
   ]
  },
  {
   "cell_type": "markdown",
   "id": "aa98edef",
   "metadata": {
    "papermill": {
     "duration": 0.003809,
     "end_time": "2025-09-08T23:34:08.927858",
     "exception": false,
     "start_time": "2025-09-08T23:34:08.924049",
     "status": "completed"
    },
    "tags": []
   },
   "source": [
    "## Load data"
   ]
  },
  {
   "cell_type": "code",
   "execution_count": 3,
   "id": "29bebf93",
   "metadata": {
    "execution": {
     "iopub.execute_input": "2025-09-08T23:34:08.936891Z",
     "iopub.status.busy": "2025-09-08T23:34:08.936616Z",
     "iopub.status.idle": "2025-09-08T23:34:08.940476Z",
     "shell.execute_reply": "2025-09-08T23:34:08.939732Z"
    },
    "papermill": {
     "duration": 0.009768,
     "end_time": "2025-09-08T23:34:08.941743",
     "exception": false,
     "start_time": "2025-09-08T23:34:08.931975",
     "status": "completed"
    },
    "tags": []
   },
   "outputs": [],
   "source": [
    "path = Path('./digitalpathology')"
   ]
  },
  {
   "cell_type": "code",
   "execution_count": 4,
   "id": "9ca68570",
   "metadata": {
    "execution": {
     "iopub.execute_input": "2025-09-08T23:34:08.950862Z",
     "iopub.status.busy": "2025-09-08T23:34:08.950146Z",
     "iopub.status.idle": "2025-09-08T23:34:09.248315Z",
     "shell.execute_reply": "2025-09-08T23:34:09.247408Z"
    },
    "papermill": {
     "duration": 0.303942,
     "end_time": "2025-09-08T23:34:09.249601",
     "exception": false,
     "start_time": "2025-09-08T23:34:08.945659",
     "status": "completed"
    },
    "tags": []
   },
   "outputs": [
    {
     "name": "stdout",
     "output_type": "stream",
     "text": [
      "(660, 168, 308), (660,)\n"
     ]
    }
   ],
   "source": [
    "trn_x = np.load(path/'X.npy')\n",
    "trn_y = np.load(path/'Y.npy')\n",
    "print(f'{trn_x.shape}, {trn_y.shape}')"
   ]
  },
  {
   "cell_type": "code",
   "execution_count": 5,
   "id": "7892bed5",
   "metadata": {
    "execution": {
     "iopub.execute_input": "2025-09-08T23:34:09.258478Z",
     "iopub.status.busy": "2025-09-08T23:34:09.258218Z",
     "iopub.status.idle": "2025-09-08T23:34:09.280303Z",
     "shell.execute_reply": "2025-09-08T23:34:09.279373Z"
    },
    "papermill": {
     "duration": 0.027872,
     "end_time": "2025-09-08T23:34:09.281590",
     "exception": false,
     "start_time": "2025-09-08T23:34:09.253718",
     "status": "completed"
    },
    "tags": []
   },
   "outputs": [
    {
     "data": {
      "text/html": [
       "<div>\n",
       "<style scoped>\n",
       "    .dataframe tbody tr th:only-of-type {\n",
       "        vertical-align: middle;\n",
       "    }\n",
       "\n",
       "    .dataframe tbody tr th {\n",
       "        vertical-align: top;\n",
       "    }\n",
       "\n",
       "    .dataframe thead th {\n",
       "        text-align: right;\n",
       "    }\n",
       "</style>\n",
       "<table border=\"1\" class=\"dataframe\">\n",
       "  <thead>\n",
       "    <tr style=\"text-align: right;\">\n",
       "      <th></th>\n",
       "      <th>idx</th>\n",
       "      <th>label</th>\n",
       "    </tr>\n",
       "  </thead>\n",
       "  <tbody>\n",
       "    <tr>\n",
       "      <th>0</th>\n",
       "      <td>0</td>\n",
       "      <td>7</td>\n",
       "    </tr>\n",
       "    <tr>\n",
       "      <th>1</th>\n",
       "      <td>1</td>\n",
       "      <td>5</td>\n",
       "    </tr>\n",
       "    <tr>\n",
       "      <th>2</th>\n",
       "      <td>2</td>\n",
       "      <td>17</td>\n",
       "    </tr>\n",
       "    <tr>\n",
       "      <th>3</th>\n",
       "      <td>3</td>\n",
       "      <td>16</td>\n",
       "    </tr>\n",
       "    <tr>\n",
       "      <th>4</th>\n",
       "      <td>4</td>\n",
       "      <td>11</td>\n",
       "    </tr>\n",
       "  </tbody>\n",
       "</table>\n",
       "</div>"
      ],
      "text/plain": [
       "   idx  label\n",
       "0    0      7\n",
       "1    1      5\n",
       "2    2     17\n",
       "3    3     16\n",
       "4    4     11"
      ]
     },
     "execution_count": 5,
     "metadata": {},
     "output_type": "execute_result"
    }
   ],
   "source": [
    "trn_y_df = pd.DataFrame({'idx': np.arange(len(trn_y)), 'label': trn_y})\n",
    "trn_y_df.head()"
   ]
  },
  {
   "cell_type": "code",
   "execution_count": 6,
   "id": "00dacf25",
   "metadata": {
    "execution": {
     "iopub.execute_input": "2025-09-08T23:34:09.291418Z",
     "iopub.status.busy": "2025-09-08T23:34:09.291152Z",
     "iopub.status.idle": "2025-09-08T23:34:09.295254Z",
     "shell.execute_reply": "2025-09-08T23:34:09.294640Z"
    },
    "papermill": {
     "duration": 0.010651,
     "end_time": "2025-09-08T23:34:09.296357",
     "exception": false,
     "start_time": "2025-09-08T23:34:09.285706",
     "status": "completed"
    },
    "tags": []
   },
   "outputs": [],
   "source": [
    "def get_x(row):\n",
    "    idx = row['idx']\n",
    "    img_pix = trn_x[idx]\n",
    "    img_pix = np.stack([img_pix]*3, axis=-1)\n",
    "    return PILImage.create(img_pix.astype(np.uint8))"
   ]
  },
  {
   "cell_type": "markdown",
   "id": "c439ebf4",
   "metadata": {
    "papermill": {
     "duration": 0.003963,
     "end_time": "2025-09-08T23:34:09.304608",
     "exception": false,
     "start_time": "2025-09-08T23:34:09.300645",
     "status": "completed"
    },
    "tags": []
   },
   "source": [
    "## Experimenting with Preprocessing"
   ]
  },
  {
   "cell_type": "markdown",
   "id": "8a7adbcf",
   "metadata": {
    "papermill": {
     "duration": 0.003639,
     "end_time": "2025-09-08T23:34:09.312088",
     "exception": false,
     "start_time": "2025-09-08T23:34:09.308449",
     "status": "completed"
    },
    "tags": []
   },
   "source": [
    "I want to try different methods of resizing to see if performance increases. I'm going to create a function to create the model and train it to speed this trial-and-error process up."
   ]
  },
  {
   "cell_type": "code",
   "execution_count": 7,
   "id": "20172bd7",
   "metadata": {
    "execution": {
     "iopub.execute_input": "2025-09-08T23:34:09.321135Z",
     "iopub.status.busy": "2025-09-08T23:34:09.320715Z",
     "iopub.status.idle": "2025-09-08T23:34:09.326555Z",
     "shell.execute_reply": "2025-09-08T23:34:09.325775Z"
    },
    "papermill": {
     "duration": 0.011963,
     "end_time": "2025-09-08T23:34:09.327812",
     "exception": false,
     "start_time": "2025-09-08T23:34:09.315849",
     "status": "completed"
    },
    "tags": []
   },
   "outputs": [],
   "source": [
    "def train(arch,item,accum=1,epochs=5,finetune=False):\n",
    "    dblock = DataBlock(\n",
    "        blocks=(ImageBlock, CategoryBlock),\n",
    "        get_x=get_x,\n",
    "        get_y=ColReader('label'),\n",
    "        item_tfms=item)\n",
    "    cbs = GradientAccumulation(64) if accum else []\n",
    "    dls = dblock.dataloaders(trn_y_df, bs=64//accum)\n",
    "    learn = vision_learner(dls, arch, metrics=accuracy, cbs=cbs).to_fp16()\n",
    "    if finetune:\n",
    "        learn.fine_tune(epochs)\n",
    "    else:\n",
    "        learn.unfreeze()\n",
    "        learn.fit_one_cycle(epochs)"
   ]
  },
  {
   "cell_type": "markdown",
   "id": "8f60c0a9",
   "metadata": {
    "papermill": {
     "duration": 0.003958,
     "end_time": "2025-09-08T23:34:09.335834",
     "exception": false,
     "start_time": "2025-09-08T23:34:09.331876",
     "status": "completed"
    },
    "tags": []
   },
   "source": [
    "Also making a function to use to clear out GPU memory after every train run."
   ]
  },
  {
   "cell_type": "code",
   "execution_count": 8,
   "id": "604f080c",
   "metadata": {
    "execution": {
     "iopub.execute_input": "2025-09-08T23:34:09.345661Z",
     "iopub.status.busy": "2025-09-08T23:34:09.345347Z",
     "iopub.status.idle": "2025-09-08T23:34:09.349324Z",
     "shell.execute_reply": "2025-09-08T23:34:09.348670Z"
    },
    "papermill": {
     "duration": 0.010178,
     "end_time": "2025-09-08T23:34:09.350497",
     "exception": false,
     "start_time": "2025-09-08T23:34:09.340319",
     "status": "completed"
    },
    "tags": []
   },
   "outputs": [],
   "source": [
    "import gc\n",
    "def clear_gpu():\n",
    "    print(torch.cuda.list_gpu_processes())\n",
    "    gc.collect()\n",
    "    torch.cuda.empty_cache()"
   ]
  },
  {
   "cell_type": "markdown",
   "id": "a0f5bc4b",
   "metadata": {
    "papermill": {
     "duration": 0.003865,
     "end_time": "2025-09-08T23:34:09.358582",
     "exception": false,
     "start_time": "2025-09-08T23:34:09.354717",
     "status": "completed"
    },
    "tags": []
   },
   "source": [
    "Going to retry ```padding``` for a baseline:"
   ]
  },
  {
   "cell_type": "code",
   "execution_count": 9,
   "id": "ec1496aa",
   "metadata": {
    "execution": {
     "iopub.execute_input": "2025-09-08T23:34:09.367366Z",
     "iopub.status.busy": "2025-09-08T23:34:09.367062Z",
     "iopub.status.idle": "2025-09-08T23:35:13.513351Z",
     "shell.execute_reply": "2025-09-08T23:35:13.512288Z"
    },
    "papermill": {
     "duration": 64.152311,
     "end_time": "2025-09-08T23:35:13.514806",
     "exception": false,
     "start_time": "2025-09-08T23:34:09.362495",
     "status": "completed"
    },
    "tags": []
   },
   "outputs": [
    {
     "name": "stderr",
     "output_type": "stream",
     "text": [
      "/usr/local/lib/python3.11/dist-packages/timm/models/_factory.py:126: UserWarning: Mapping deprecated model name convnext_tiny_in22k to current convnext_tiny.fb_in22k.\n",
      "  model = create_fn(\n"
     ]
    },
    {
     "data": {
      "application/vnd.jupyter.widget-view+json": {
       "model_id": "eccc60cc5b9848d9a5ab60ea5f1691fc",
       "version_major": 2,
       "version_minor": 0
      },
      "text/plain": [
       "model.safetensors:   0%|          | 0.00/178M [00:00<?, ?B/s]"
      ]
     },
     "metadata": {},
     "output_type": "display_data"
    },
    {
     "name": "stderr",
     "output_type": "stream",
     "text": [
      "/usr/local/lib/python3.11/dist-packages/fastai/callback/fp16.py:47: FutureWarning: `torch.cuda.amp.autocast(args...)` is deprecated. Please use `torch.amp.autocast('cuda', args...)` instead.\n",
      "  self.autocast,self.learn.scaler,self.scales = autocast(dtype=dtype),GradScaler(**self.kwargs),L()\n",
      "/usr/local/lib/python3.11/dist-packages/fastai/callback/fp16.py:47: FutureWarning: `torch.cuda.amp.GradScaler(args...)` is deprecated. Please use `torch.amp.GradScaler('cuda', args...)` instead.\n",
      "  self.autocast,self.learn.scaler,self.scales = autocast(dtype=dtype),GradScaler(**self.kwargs),L()\n"
     ]
    },
    {
     "data": {
      "text/html": [
       "\n",
       "<style>\n",
       "    /* Turns off some styling */\n",
       "    progress {\n",
       "        /* gets rid of default border in Firefox and Opera. */\n",
       "        border: none;\n",
       "        /* Needs to be in here for Safari polyfill so background images work as expected. */\n",
       "        background-size: auto;\n",
       "    }\n",
       "    progress:not([value]), progress:not([value])::-webkit-progress-bar {\n",
       "        background: repeating-linear-gradient(45deg, #7e7e7e, #7e7e7e 10px, #5c5c5c 10px, #5c5c5c 20px);\n",
       "    }\n",
       "    .progress-bar-interrupted, .progress-bar-interrupted::-webkit-progress-bar {\n",
       "        background: #F44336;\n",
       "    }\n",
       "</style>\n"
      ],
      "text/plain": [
       "<IPython.core.display.HTML object>"
      ]
     },
     "metadata": {},
     "output_type": "display_data"
    },
    {
     "data": {
      "text/html": [
       "<table border=\"1\" class=\"dataframe\">\n",
       "  <thead>\n",
       "    <tr style=\"text-align: left;\">\n",
       "      <th>epoch</th>\n",
       "      <th>train_loss</th>\n",
       "      <th>valid_loss</th>\n",
       "      <th>accuracy</th>\n",
       "      <th>time</th>\n",
       "    </tr>\n",
       "  </thead>\n",
       "  <tbody>\n",
       "    <tr>\n",
       "      <td>0</td>\n",
       "      <td>4.167726</td>\n",
       "      <td>2.687897</td>\n",
       "      <td>0.204545</td>\n",
       "      <td>00:13</td>\n",
       "    </tr>\n",
       "    <tr>\n",
       "      <td>1</td>\n",
       "      <td>2.572411</td>\n",
       "      <td>0.815804</td>\n",
       "      <td>0.772727</td>\n",
       "      <td>00:12</td>\n",
       "    </tr>\n",
       "    <tr>\n",
       "      <td>2</td>\n",
       "      <td>1.722406</td>\n",
       "      <td>0.292323</td>\n",
       "      <td>0.916667</td>\n",
       "      <td>00:12</td>\n",
       "    </tr>\n",
       "    <tr>\n",
       "      <td>3</td>\n",
       "      <td>1.248955</td>\n",
       "      <td>0.238293</td>\n",
       "      <td>0.916667</td>\n",
       "      <td>00:12</td>\n",
       "    </tr>\n",
       "    <tr>\n",
       "      <td>4</td>\n",
       "      <td>0.934781</td>\n",
       "      <td>0.165983</td>\n",
       "      <td>0.954545</td>\n",
       "      <td>00:12</td>\n",
       "    </tr>\n",
       "  </tbody>\n",
       "</table>"
      ],
      "text/plain": [
       "<IPython.core.display.HTML object>"
      ]
     },
     "metadata": {},
     "output_type": "display_data"
    },
    {
     "name": "stdout",
     "output_type": "stream",
     "text": [
      "GPU:0\n",
      "process       6728 uses     4810.000 MB GPU memory\n"
     ]
    }
   ],
   "source": [
    "train(arch='convnext_tiny_in22k',\n",
    "     item=Resize(224, method=ResizeMethod.Pad, pad_mode=PadMode.Zeros))\n",
    "clear_gpu()"
   ]
  },
  {
   "cell_type": "markdown",
   "id": "3c764f77",
   "metadata": {
    "papermill": {
     "duration": 0.004295,
     "end_time": "2025-09-08T23:35:13.523932",
     "exception": false,
     "start_time": "2025-09-08T23:35:13.519637",
     "status": "completed"
    },
    "tags": []
   },
   "source": [
    "Let's try ```method='squish'``` first:"
   ]
  },
  {
   "cell_type": "code",
   "execution_count": 10,
   "id": "e1a25500",
   "metadata": {
    "execution": {
     "iopub.execute_input": "2025-09-08T23:35:13.534295Z",
     "iopub.status.busy": "2025-09-08T23:35:13.533636Z",
     "iopub.status.idle": "2025-09-08T23:36:15.586338Z",
     "shell.execute_reply": "2025-09-08T23:36:15.585326Z"
    },
    "papermill": {
     "duration": 62.059248,
     "end_time": "2025-09-08T23:36:15.587560",
     "exception": false,
     "start_time": "2025-09-08T23:35:13.528312",
     "status": "completed"
    },
    "tags": []
   },
   "outputs": [
    {
     "name": "stderr",
     "output_type": "stream",
     "text": [
      "/usr/local/lib/python3.11/dist-packages/timm/models/_factory.py:126: UserWarning: Mapping deprecated model name convnext_tiny_in22k to current convnext_tiny.fb_in22k.\n",
      "  model = create_fn(\n",
      "/usr/local/lib/python3.11/dist-packages/fastai/callback/fp16.py:47: FutureWarning: `torch.cuda.amp.autocast(args...)` is deprecated. Please use `torch.amp.autocast('cuda', args...)` instead.\n",
      "  self.autocast,self.learn.scaler,self.scales = autocast(dtype=dtype),GradScaler(**self.kwargs),L()\n",
      "/usr/local/lib/python3.11/dist-packages/fastai/callback/fp16.py:47: FutureWarning: `torch.cuda.amp.GradScaler(args...)` is deprecated. Please use `torch.amp.GradScaler('cuda', args...)` instead.\n",
      "  self.autocast,self.learn.scaler,self.scales = autocast(dtype=dtype),GradScaler(**self.kwargs),L()\n"
     ]
    },
    {
     "data": {
      "text/html": [
       "\n",
       "<style>\n",
       "    /* Turns off some styling */\n",
       "    progress {\n",
       "        /* gets rid of default border in Firefox and Opera. */\n",
       "        border: none;\n",
       "        /* Needs to be in here for Safari polyfill so background images work as expected. */\n",
       "        background-size: auto;\n",
       "    }\n",
       "    progress:not([value]), progress:not([value])::-webkit-progress-bar {\n",
       "        background: repeating-linear-gradient(45deg, #7e7e7e, #7e7e7e 10px, #5c5c5c 10px, #5c5c5c 20px);\n",
       "    }\n",
       "    .progress-bar-interrupted, .progress-bar-interrupted::-webkit-progress-bar {\n",
       "        background: #F44336;\n",
       "    }\n",
       "</style>\n"
      ],
      "text/plain": [
       "<IPython.core.display.HTML object>"
      ]
     },
     "metadata": {},
     "output_type": "display_data"
    },
    {
     "data": {
      "text/html": [
       "<table border=\"1\" class=\"dataframe\">\n",
       "  <thead>\n",
       "    <tr style=\"text-align: left;\">\n",
       "      <th>epoch</th>\n",
       "      <th>train_loss</th>\n",
       "      <th>valid_loss</th>\n",
       "      <th>accuracy</th>\n",
       "      <th>time</th>\n",
       "    </tr>\n",
       "  </thead>\n",
       "  <tbody>\n",
       "    <tr>\n",
       "      <td>0</td>\n",
       "      <td>4.122965</td>\n",
       "      <td>3.203338</td>\n",
       "      <td>0.242424</td>\n",
       "      <td>00:12</td>\n",
       "    </tr>\n",
       "    <tr>\n",
       "      <td>1</td>\n",
       "      <td>2.740054</td>\n",
       "      <td>1.676455</td>\n",
       "      <td>0.575758</td>\n",
       "      <td>00:12</td>\n",
       "    </tr>\n",
       "    <tr>\n",
       "      <td>2</td>\n",
       "      <td>1.864566</td>\n",
       "      <td>0.377005</td>\n",
       "      <td>0.893939</td>\n",
       "      <td>00:12</td>\n",
       "    </tr>\n",
       "    <tr>\n",
       "      <td>3</td>\n",
       "      <td>1.354755</td>\n",
       "      <td>0.263410</td>\n",
       "      <td>0.939394</td>\n",
       "      <td>00:12</td>\n",
       "    </tr>\n",
       "    <tr>\n",
       "      <td>4</td>\n",
       "      <td>1.027740</td>\n",
       "      <td>0.233163</td>\n",
       "      <td>0.939394</td>\n",
       "      <td>00:12</td>\n",
       "    </tr>\n",
       "  </tbody>\n",
       "</table>"
      ],
      "text/plain": [
       "<IPython.core.display.HTML object>"
      ]
     },
     "metadata": {},
     "output_type": "display_data"
    },
    {
     "name": "stdout",
     "output_type": "stream",
     "text": [
      "GPU:0\n",
      "process       6728 uses     4830.000 MB GPU memory\n"
     ]
    }
   ],
   "source": [
    "train(arch='convnext_tiny_in22k', \n",
    "      item=Resize(224, method='squish'))\n",
    "clear_gpu()"
   ]
  },
  {
   "cell_type": "markdown",
   "id": "dcaed007",
   "metadata": {
    "papermill": {
     "duration": 0.004497,
     "end_time": "2025-09-08T23:36:15.596949",
     "exception": false,
     "start_time": "2025-09-08T23:36:15.592452",
     "status": "completed"
    },
    "tags": []
   },
   "source": [
    "Alright, looks better than padding! Let's try crop next, I hypothesize this won't do as well as the other 2 since there will definitely be loss of some potentially important information."
   ]
  },
  {
   "cell_type": "code",
   "execution_count": 11,
   "id": "7aefd629",
   "metadata": {
    "execution": {
     "iopub.execute_input": "2025-09-08T23:36:15.607923Z",
     "iopub.status.busy": "2025-09-08T23:36:15.607209Z",
     "iopub.status.idle": "2025-09-08T23:37:17.327974Z",
     "shell.execute_reply": "2025-09-08T23:37:17.327013Z"
    },
    "papermill": {
     "duration": 61.727588,
     "end_time": "2025-09-08T23:37:17.329284",
     "exception": false,
     "start_time": "2025-09-08T23:36:15.601696",
     "status": "completed"
    },
    "tags": []
   },
   "outputs": [
    {
     "name": "stderr",
     "output_type": "stream",
     "text": [
      "/usr/local/lib/python3.11/dist-packages/timm/models/_factory.py:126: UserWarning: Mapping deprecated model name convnext_tiny_in22k to current convnext_tiny.fb_in22k.\n",
      "  model = create_fn(\n",
      "/usr/local/lib/python3.11/dist-packages/fastai/callback/fp16.py:47: FutureWarning: `torch.cuda.amp.autocast(args...)` is deprecated. Please use `torch.amp.autocast('cuda', args...)` instead.\n",
      "  self.autocast,self.learn.scaler,self.scales = autocast(dtype=dtype),GradScaler(**self.kwargs),L()\n",
      "/usr/local/lib/python3.11/dist-packages/fastai/callback/fp16.py:47: FutureWarning: `torch.cuda.amp.GradScaler(args...)` is deprecated. Please use `torch.amp.GradScaler('cuda', args...)` instead.\n",
      "  self.autocast,self.learn.scaler,self.scales = autocast(dtype=dtype),GradScaler(**self.kwargs),L()\n"
     ]
    },
    {
     "data": {
      "text/html": [
       "\n",
       "<style>\n",
       "    /* Turns off some styling */\n",
       "    progress {\n",
       "        /* gets rid of default border in Firefox and Opera. */\n",
       "        border: none;\n",
       "        /* Needs to be in here for Safari polyfill so background images work as expected. */\n",
       "        background-size: auto;\n",
       "    }\n",
       "    progress:not([value]), progress:not([value])::-webkit-progress-bar {\n",
       "        background: repeating-linear-gradient(45deg, #7e7e7e, #7e7e7e 10px, #5c5c5c 10px, #5c5c5c 20px);\n",
       "    }\n",
       "    .progress-bar-interrupted, .progress-bar-interrupted::-webkit-progress-bar {\n",
       "        background: #F44336;\n",
       "    }\n",
       "</style>\n"
      ],
      "text/plain": [
       "<IPython.core.display.HTML object>"
      ]
     },
     "metadata": {},
     "output_type": "display_data"
    },
    {
     "data": {
      "text/html": [
       "<table border=\"1\" class=\"dataframe\">\n",
       "  <thead>\n",
       "    <tr style=\"text-align: left;\">\n",
       "      <th>epoch</th>\n",
       "      <th>train_loss</th>\n",
       "      <th>valid_loss</th>\n",
       "      <th>accuracy</th>\n",
       "      <th>time</th>\n",
       "    </tr>\n",
       "  </thead>\n",
       "  <tbody>\n",
       "    <tr>\n",
       "      <td>0</td>\n",
       "      <td>4.258249</td>\n",
       "      <td>2.394589</td>\n",
       "      <td>0.310606</td>\n",
       "      <td>00:12</td>\n",
       "    </tr>\n",
       "    <tr>\n",
       "      <td>1</td>\n",
       "      <td>2.834418</td>\n",
       "      <td>2.037032</td>\n",
       "      <td>0.500000</td>\n",
       "      <td>00:12</td>\n",
       "    </tr>\n",
       "    <tr>\n",
       "      <td>2</td>\n",
       "      <td>1.982937</td>\n",
       "      <td>0.529543</td>\n",
       "      <td>0.840909</td>\n",
       "      <td>00:12</td>\n",
       "    </tr>\n",
       "    <tr>\n",
       "      <td>3</td>\n",
       "      <td>1.458999</td>\n",
       "      <td>0.248052</td>\n",
       "      <td>0.909091</td>\n",
       "      <td>00:12</td>\n",
       "    </tr>\n",
       "    <tr>\n",
       "      <td>4</td>\n",
       "      <td>1.116735</td>\n",
       "      <td>0.211637</td>\n",
       "      <td>0.954545</td>\n",
       "      <td>00:12</td>\n",
       "    </tr>\n",
       "  </tbody>\n",
       "</table>"
      ],
      "text/plain": [
       "<IPython.core.display.HTML object>"
      ]
     },
     "metadata": {},
     "output_type": "display_data"
    },
    {
     "name": "stdout",
     "output_type": "stream",
     "text": [
      "GPU:0\n",
      "process       6728 uses     4830.000 MB GPU memory\n"
     ]
    }
   ],
   "source": [
    "train(arch='convnext_tiny_in22k', \n",
    "      item=Resize(224, method='crop'))\n",
    "clear_gpu()"
   ]
  },
  {
   "cell_type": "markdown",
   "id": "377f0a61",
   "metadata": {
    "papermill": {
     "duration": 0.004729,
     "end_time": "2025-09-08T23:37:17.339292",
     "exception": false,
     "start_time": "2025-09-08T23:37:17.334563",
     "status": "completed"
    },
    "tags": []
   },
   "source": [
    "### Trying image augmentation"
   ]
  },
  {
   "cell_type": "code",
   "execution_count": 12,
   "id": "ed41174d",
   "metadata": {
    "execution": {
     "iopub.execute_input": "2025-09-08T23:37:17.350020Z",
     "iopub.status.busy": "2025-09-08T23:37:17.349781Z",
     "iopub.status.idle": "2025-09-08T23:37:17.355087Z",
     "shell.execute_reply": "2025-09-08T23:37:17.354403Z"
    },
    "papermill": {
     "duration": 0.011898,
     "end_time": "2025-09-08T23:37:17.356170",
     "exception": false,
     "start_time": "2025-09-08T23:37:17.344272",
     "status": "completed"
    },
    "tags": []
   },
   "outputs": [],
   "source": [
    "def train(arch,item,accum=1,epochs=5,finetune=False):\n",
    "    dblock = DataBlock(\n",
    "        blocks=(ImageBlock, CategoryBlock),\n",
    "        get_x=get_x,\n",
    "        get_y=ColReader('label'),\n",
    "        item_tfms=item,\n",
    "        batch_tfms=aug_transforms(size=224, min_scale=0.75))\n",
    "    cbs = GradientAccumulation(64) if accum else []\n",
    "    dls = dblock.dataloaders(trn_y_df, bs=64//accum)\n",
    "    learn = vision_learner(dls, arch, metrics=accuracy, cbs=cbs).to_fp16()\n",
    "    if finetune:\n",
    "        learn.fine_tune(epochs)\n",
    "        return learn\n",
    "    else:\n",
    "        learn.unfreeze()\n",
    "        learn.fit_one_cycle(epochs)"
   ]
  },
  {
   "cell_type": "code",
   "execution_count": 13,
   "id": "cfbdd4c9",
   "metadata": {
    "execution": {
     "iopub.execute_input": "2025-09-08T23:37:17.367079Z",
     "iopub.status.busy": "2025-09-08T23:37:17.366853Z",
     "iopub.status.idle": "2025-09-08T23:39:37.205033Z",
     "shell.execute_reply": "2025-09-08T23:39:37.204038Z"
    },
    "papermill": {
     "duration": 139.845231,
     "end_time": "2025-09-08T23:39:37.206384",
     "exception": false,
     "start_time": "2025-09-08T23:37:17.361153",
     "status": "completed"
    },
    "tags": []
   },
   "outputs": [
    {
     "name": "stderr",
     "output_type": "stream",
     "text": [
      "/usr/local/lib/python3.11/dist-packages/timm/models/_factory.py:126: UserWarning: Mapping deprecated model name convnext_tiny_in22k to current convnext_tiny.fb_in22k.\n",
      "  model = create_fn(\n",
      "/usr/local/lib/python3.11/dist-packages/fastai/callback/fp16.py:47: FutureWarning: `torch.cuda.amp.autocast(args...)` is deprecated. Please use `torch.amp.autocast('cuda', args...)` instead.\n",
      "  self.autocast,self.learn.scaler,self.scales = autocast(dtype=dtype),GradScaler(**self.kwargs),L()\n",
      "/usr/local/lib/python3.11/dist-packages/fastai/callback/fp16.py:47: FutureWarning: `torch.cuda.amp.GradScaler(args...)` is deprecated. Please use `torch.amp.GradScaler('cuda', args...)` instead.\n",
      "  self.autocast,self.learn.scaler,self.scales = autocast(dtype=dtype),GradScaler(**self.kwargs),L()\n"
     ]
    },
    {
     "data": {
      "text/html": [
       "\n",
       "<style>\n",
       "    /* Turns off some styling */\n",
       "    progress {\n",
       "        /* gets rid of default border in Firefox and Opera. */\n",
       "        border: none;\n",
       "        /* Needs to be in here for Safari polyfill so background images work as expected. */\n",
       "        background-size: auto;\n",
       "    }\n",
       "    progress:not([value]), progress:not([value])::-webkit-progress-bar {\n",
       "        background: repeating-linear-gradient(45deg, #7e7e7e, #7e7e7e 10px, #5c5c5c 10px, #5c5c5c 20px);\n",
       "    }\n",
       "    .progress-bar-interrupted, .progress-bar-interrupted::-webkit-progress-bar {\n",
       "        background: #F44336;\n",
       "    }\n",
       "</style>\n"
      ],
      "text/plain": [
       "<IPython.core.display.HTML object>"
      ]
     },
     "metadata": {},
     "output_type": "display_data"
    },
    {
     "data": {
      "text/html": [
       "<table border=\"1\" class=\"dataframe\">\n",
       "  <thead>\n",
       "    <tr style=\"text-align: left;\">\n",
       "      <th>epoch</th>\n",
       "      <th>train_loss</th>\n",
       "      <th>valid_loss</th>\n",
       "      <th>accuracy</th>\n",
       "      <th>time</th>\n",
       "    </tr>\n",
       "  </thead>\n",
       "  <tbody>\n",
       "    <tr>\n",
       "      <td>0</td>\n",
       "      <td>4.183647</td>\n",
       "      <td>3.325473</td>\n",
       "      <td>0.121212</td>\n",
       "      <td>00:27</td>\n",
       "    </tr>\n",
       "    <tr>\n",
       "      <td>1</td>\n",
       "      <td>2.847507</td>\n",
       "      <td>1.275459</td>\n",
       "      <td>0.659091</td>\n",
       "      <td>00:27</td>\n",
       "    </tr>\n",
       "    <tr>\n",
       "      <td>2</td>\n",
       "      <td>1.931995</td>\n",
       "      <td>0.691297</td>\n",
       "      <td>0.803030</td>\n",
       "      <td>00:27</td>\n",
       "    </tr>\n",
       "    <tr>\n",
       "      <td>3</td>\n",
       "      <td>1.282322</td>\n",
       "      <td>0.278111</td>\n",
       "      <td>0.931818</td>\n",
       "      <td>00:27</td>\n",
       "    </tr>\n",
       "    <tr>\n",
       "      <td>4</td>\n",
       "      <td>0.941951</td>\n",
       "      <td>0.253633</td>\n",
       "      <td>0.954545</td>\n",
       "      <td>00:27</td>\n",
       "    </tr>\n",
       "  </tbody>\n",
       "</table>"
      ],
      "text/plain": [
       "<IPython.core.display.HTML object>"
      ]
     },
     "metadata": {},
     "output_type": "display_data"
    },
    {
     "name": "stdout",
     "output_type": "stream",
     "text": [
      "GPU:0\n",
      "process       6728 uses     1932.000 MB GPU memory\n"
     ]
    }
   ],
   "source": [
    "train(arch='convnext_tiny_in22k',\n",
    "      item=Resize(224, method='squish'),\n",
    "      accum=4)\n",
    "clear_gpu()"
   ]
  },
  {
   "cell_type": "markdown",
   "id": "c00d8f17",
   "metadata": {
    "papermill": {
     "duration": 0.006427,
     "end_time": "2025-09-08T23:39:37.218247",
     "exception": false,
     "start_time": "2025-09-08T23:39:37.211820",
     "status": "completed"
    },
    "tags": []
   },
   "source": [
    "## Trying different models"
   ]
  },
  {
   "cell_type": "markdown",
   "id": "a588578b",
   "metadata": {
    "papermill": {
     "duration": 0.004918,
     "end_time": "2025-09-08T23:39:37.228228",
     "exception": false,
     "start_time": "2025-09-08T23:39:37.223310",
     "status": "completed"
    },
    "tags": []
   },
   "source": [
    "Okay, let's carry on with ```method='squish'```. Let's try some different models now, I'll start with a ViT model:"
   ]
  },
  {
   "cell_type": "code",
   "execution_count": 14,
   "id": "d35f716f",
   "metadata": {
    "execution": {
     "iopub.execute_input": "2025-09-08T23:39:37.239217Z",
     "iopub.status.busy": "2025-09-08T23:39:37.238985Z",
     "iopub.status.idle": "2025-09-08T23:40:09.339755Z",
     "shell.execute_reply": "2025-09-08T23:40:09.338884Z"
    },
    "papermill": {
     "duration": 32.107624,
     "end_time": "2025-09-08T23:40:09.340894",
     "exception": false,
     "start_time": "2025-09-08T23:39:37.233270",
     "status": "completed"
    },
    "tags": []
   },
   "outputs": [
    {
     "data": {
      "application/vnd.jupyter.widget-view+json": {
       "model_id": "5c3a6bd4b1bc4f65957cb0e5d1a23ec1",
       "version_major": 2,
       "version_minor": 0
      },
      "text/plain": [
       "model.safetensors:   0%|          | 0.00/146M [00:00<?, ?B/s]"
      ]
     },
     "metadata": {},
     "output_type": "display_data"
    },
    {
     "name": "stderr",
     "output_type": "stream",
     "text": [
      "/usr/local/lib/python3.11/dist-packages/fastai/callback/fp16.py:47: FutureWarning: `torch.cuda.amp.autocast(args...)` is deprecated. Please use `torch.amp.autocast('cuda', args...)` instead.\n",
      "  self.autocast,self.learn.scaler,self.scales = autocast(dtype=dtype),GradScaler(**self.kwargs),L()\n",
      "/usr/local/lib/python3.11/dist-packages/fastai/callback/fp16.py:47: FutureWarning: `torch.cuda.amp.GradScaler(args...)` is deprecated. Please use `torch.amp.GradScaler('cuda', args...)` instead.\n",
      "  self.autocast,self.learn.scaler,self.scales = autocast(dtype=dtype),GradScaler(**self.kwargs),L()\n"
     ]
    },
    {
     "data": {
      "text/html": [
       "\n",
       "<style>\n",
       "    /* Turns off some styling */\n",
       "    progress {\n",
       "        /* gets rid of default border in Firefox and Opera. */\n",
       "        border: none;\n",
       "        /* Needs to be in here for Safari polyfill so background images work as expected. */\n",
       "        background-size: auto;\n",
       "    }\n",
       "    progress:not([value]), progress:not([value])::-webkit-progress-bar {\n",
       "        background: repeating-linear-gradient(45deg, #7e7e7e, #7e7e7e 10px, #5c5c5c 10px, #5c5c5c 20px);\n",
       "    }\n",
       "    .progress-bar-interrupted, .progress-bar-interrupted::-webkit-progress-bar {\n",
       "        background: #F44336;\n",
       "    }\n",
       "</style>\n"
      ],
      "text/plain": [
       "<IPython.core.display.HTML object>"
      ]
     },
     "metadata": {},
     "output_type": "display_data"
    },
    {
     "data": {
      "text/html": [
       "<table border=\"1\" class=\"dataframe\">\n",
       "  <thead>\n",
       "    <tr style=\"text-align: left;\">\n",
       "      <th>epoch</th>\n",
       "      <th>train_loss</th>\n",
       "      <th>valid_loss</th>\n",
       "      <th>accuracy</th>\n",
       "      <th>time</th>\n",
       "    </tr>\n",
       "  </thead>\n",
       "  <tbody>\n",
       "    <tr>\n",
       "      <td>0</td>\n",
       "      <td>2.891594</td>\n",
       "      <td>1.498537</td>\n",
       "      <td>0.507576</td>\n",
       "      <td>00:05</td>\n",
       "    </tr>\n",
       "    <tr>\n",
       "      <td>1</td>\n",
       "      <td>1.704231</td>\n",
       "      <td>0.847576</td>\n",
       "      <td>0.712121</td>\n",
       "      <td>00:04</td>\n",
       "    </tr>\n",
       "    <tr>\n",
       "      <td>2</td>\n",
       "      <td>1.145172</td>\n",
       "      <td>0.565103</td>\n",
       "      <td>0.810606</td>\n",
       "      <td>00:04</td>\n",
       "    </tr>\n",
       "    <tr>\n",
       "      <td>3</td>\n",
       "      <td>0.763625</td>\n",
       "      <td>0.303434</td>\n",
       "      <td>0.893939</td>\n",
       "      <td>00:04</td>\n",
       "    </tr>\n",
       "    <tr>\n",
       "      <td>4</td>\n",
       "      <td>0.538583</td>\n",
       "      <td>0.238627</td>\n",
       "      <td>0.916667</td>\n",
       "      <td>00:04</td>\n",
       "    </tr>\n",
       "  </tbody>\n",
       "</table>"
      ],
      "text/plain": [
       "<IPython.core.display.HTML object>"
      ]
     },
     "metadata": {},
     "output_type": "display_data"
    },
    {
     "name": "stdout",
     "output_type": "stream",
     "text": [
      "GPU:0\n",
      "process       6728 uses     2288.000 MB GPU memory\n"
     ]
    }
   ],
   "source": [
    "train(arch='vit_small_r26_s32_224',\n",
    "     item=Resize(224, method='squish'),\n",
    "     accum=4)\n",
    "clear_gpu()"
   ]
  },
  {
   "cell_type": "code",
   "execution_count": 15,
   "id": "fef6d4d4",
   "metadata": {
    "execution": {
     "iopub.execute_input": "2025-09-08T23:40:09.353439Z",
     "iopub.status.busy": "2025-09-08T23:40:09.353195Z",
     "iopub.status.idle": "2025-09-08T23:48:42.473425Z",
     "shell.execute_reply": "2025-09-08T23:48:42.472750Z"
    },
    "papermill": {
     "duration": 513.128038,
     "end_time": "2025-09-08T23:48:42.474790",
     "exception": false,
     "start_time": "2025-09-08T23:40:09.346752",
     "status": "completed"
    },
    "tags": []
   },
   "outputs": [
    {
     "name": "stderr",
     "output_type": "stream",
     "text": [
      "/usr/local/lib/python3.11/dist-packages/timm/models/_factory.py:126: UserWarning: Mapping deprecated model name convnext_large_in22k to current convnext_large.fb_in22k.\n",
      "  model = create_fn(\n"
     ]
    },
    {
     "data": {
      "application/vnd.jupyter.widget-view+json": {
       "model_id": "bd17700e86524697b5cf05fbd168716c",
       "version_major": 2,
       "version_minor": 0
      },
      "text/plain": [
       "model.safetensors:   0%|          | 0.00/919M [00:00<?, ?B/s]"
      ]
     },
     "metadata": {},
     "output_type": "display_data"
    },
    {
     "name": "stderr",
     "output_type": "stream",
     "text": [
      "/usr/local/lib/python3.11/dist-packages/fastai/callback/fp16.py:47: FutureWarning: `torch.cuda.amp.autocast(args...)` is deprecated. Please use `torch.amp.autocast('cuda', args...)` instead.\n",
      "  self.autocast,self.learn.scaler,self.scales = autocast(dtype=dtype),GradScaler(**self.kwargs),L()\n",
      "/usr/local/lib/python3.11/dist-packages/fastai/callback/fp16.py:47: FutureWarning: `torch.cuda.amp.GradScaler(args...)` is deprecated. Please use `torch.amp.GradScaler('cuda', args...)` instead.\n",
      "  self.autocast,self.learn.scaler,self.scales = autocast(dtype=dtype),GradScaler(**self.kwargs),L()\n"
     ]
    },
    {
     "data": {
      "text/html": [
       "\n",
       "<style>\n",
       "    /* Turns off some styling */\n",
       "    progress {\n",
       "        /* gets rid of default border in Firefox and Opera. */\n",
       "        border: none;\n",
       "        /* Needs to be in here for Safari polyfill so background images work as expected. */\n",
       "        background-size: auto;\n",
       "    }\n",
       "    progress:not([value]), progress:not([value])::-webkit-progress-bar {\n",
       "        background: repeating-linear-gradient(45deg, #7e7e7e, #7e7e7e 10px, #5c5c5c 10px, #5c5c5c 20px);\n",
       "    }\n",
       "    .progress-bar-interrupted, .progress-bar-interrupted::-webkit-progress-bar {\n",
       "        background: #F44336;\n",
       "    }\n",
       "</style>\n"
      ],
      "text/plain": [
       "<IPython.core.display.HTML object>"
      ]
     },
     "metadata": {},
     "output_type": "display_data"
    },
    {
     "data": {
      "text/html": [
       "<table border=\"1\" class=\"dataframe\">\n",
       "  <thead>\n",
       "    <tr style=\"text-align: left;\">\n",
       "      <th>epoch</th>\n",
       "      <th>train_loss</th>\n",
       "      <th>valid_loss</th>\n",
       "      <th>accuracy</th>\n",
       "      <th>time</th>\n",
       "    </tr>\n",
       "  </thead>\n",
       "  <tbody>\n",
       "    <tr>\n",
       "      <td>0</td>\n",
       "      <td>4.325794</td>\n",
       "      <td>2.350680</td>\n",
       "      <td>0.287879</td>\n",
       "      <td>01:40</td>\n",
       "    </tr>\n",
       "    <tr>\n",
       "      <td>1</td>\n",
       "      <td>3.254385</td>\n",
       "      <td>4.152997</td>\n",
       "      <td>0.151515</td>\n",
       "      <td>01:41</td>\n",
       "    </tr>\n",
       "    <tr>\n",
       "      <td>2</td>\n",
       "      <td>2.478571</td>\n",
       "      <td>0.907315</td>\n",
       "      <td>0.734848</td>\n",
       "      <td>01:41</td>\n",
       "    </tr>\n",
       "    <tr>\n",
       "      <td>3</td>\n",
       "      <td>1.670405</td>\n",
       "      <td>0.483979</td>\n",
       "      <td>0.840909</td>\n",
       "      <td>01:41</td>\n",
       "    </tr>\n",
       "    <tr>\n",
       "      <td>4</td>\n",
       "      <td>1.180059</td>\n",
       "      <td>0.271072</td>\n",
       "      <td>0.924242</td>\n",
       "      <td>01:41</td>\n",
       "    </tr>\n",
       "  </tbody>\n",
       "</table>"
      ],
      "text/plain": [
       "<IPython.core.display.HTML object>"
      ]
     },
     "metadata": {},
     "output_type": "display_data"
    },
    {
     "name": "stdout",
     "output_type": "stream",
     "text": [
      "GPU:0\n",
      "process       6728 uses     7330.000 MB GPU memory\n"
     ]
    }
   ],
   "source": [
    "train(arch='convnext_large_in22k',\n",
    "     item=Resize(224, method='squish'),\n",
    "     accum=4)\n",
    "clear_gpu()"
   ]
  },
  {
   "cell_type": "markdown",
   "id": "3789bc83",
   "metadata": {
    "papermill": {
     "duration": 0.00583,
     "end_time": "2025-09-08T23:48:42.487199",
     "exception": false,
     "start_time": "2025-09-08T23:48:42.481369",
     "status": "completed"
    },
    "tags": []
   },
   "source": [
    "## Final model\n",
    "\n",
    "The final model is the ```vit_small_r26_s32_224``` with ```method='squish'``` and batch image augmentation since it shows the highest accuracy score from our experiments. For a final boost in performance, we'll use test time augmentation (TTA)."
   ]
  },
  {
   "cell_type": "code",
   "execution_count": 16,
   "id": "169f9bbb",
   "metadata": {
    "execution": {
     "iopub.execute_input": "2025-09-08T23:48:42.500726Z",
     "iopub.status.busy": "2025-09-08T23:48:42.500018Z",
     "iopub.status.idle": "2025-09-08T23:49:36.155969Z",
     "shell.execute_reply": "2025-09-08T23:49:36.155092Z"
    },
    "papermill": {
     "duration": 53.663853,
     "end_time": "2025-09-08T23:49:36.157221",
     "exception": false,
     "start_time": "2025-09-08T23:48:42.493368",
     "status": "completed"
    },
    "tags": []
   },
   "outputs": [
    {
     "name": "stderr",
     "output_type": "stream",
     "text": [
      "/usr/local/lib/python3.11/dist-packages/fastai/callback/fp16.py:47: FutureWarning: `torch.cuda.amp.autocast(args...)` is deprecated. Please use `torch.amp.autocast('cuda', args...)` instead.\n",
      "  self.autocast,self.learn.scaler,self.scales = autocast(dtype=dtype),GradScaler(**self.kwargs),L()\n",
      "/usr/local/lib/python3.11/dist-packages/fastai/callback/fp16.py:47: FutureWarning: `torch.cuda.amp.GradScaler(args...)` is deprecated. Please use `torch.amp.GradScaler('cuda', args...)` instead.\n",
      "  self.autocast,self.learn.scaler,self.scales = autocast(dtype=dtype),GradScaler(**self.kwargs),L()\n"
     ]
    },
    {
     "data": {
      "text/html": [
       "\n",
       "<style>\n",
       "    /* Turns off some styling */\n",
       "    progress {\n",
       "        /* gets rid of default border in Firefox and Opera. */\n",
       "        border: none;\n",
       "        /* Needs to be in here for Safari polyfill so background images work as expected. */\n",
       "        background-size: auto;\n",
       "    }\n",
       "    progress:not([value]), progress:not([value])::-webkit-progress-bar {\n",
       "        background: repeating-linear-gradient(45deg, #7e7e7e, #7e7e7e 10px, #5c5c5c 10px, #5c5c5c 20px);\n",
       "    }\n",
       "    .progress-bar-interrupted, .progress-bar-interrupted::-webkit-progress-bar {\n",
       "        background: #F44336;\n",
       "    }\n",
       "</style>\n"
      ],
      "text/plain": [
       "<IPython.core.display.HTML object>"
      ]
     },
     "metadata": {},
     "output_type": "display_data"
    },
    {
     "data": {
      "text/html": [
       "<table border=\"1\" class=\"dataframe\">\n",
       "  <thead>\n",
       "    <tr style=\"text-align: left;\">\n",
       "      <th>epoch</th>\n",
       "      <th>train_loss</th>\n",
       "      <th>valid_loss</th>\n",
       "      <th>accuracy</th>\n",
       "      <th>time</th>\n",
       "    </tr>\n",
       "  </thead>\n",
       "  <tbody>\n",
       "    <tr>\n",
       "      <td>0</td>\n",
       "      <td>3.926334</td>\n",
       "      <td>1.581833</td>\n",
       "      <td>0.545455</td>\n",
       "      <td>00:02</td>\n",
       "    </tr>\n",
       "  </tbody>\n",
       "</table>"
      ],
      "text/plain": [
       "<IPython.core.display.HTML object>"
      ]
     },
     "metadata": {},
     "output_type": "display_data"
    },
    {
     "data": {
      "text/html": [
       "\n",
       "<style>\n",
       "    /* Turns off some styling */\n",
       "    progress {\n",
       "        /* gets rid of default border in Firefox and Opera. */\n",
       "        border: none;\n",
       "        /* Needs to be in here for Safari polyfill so background images work as expected. */\n",
       "        background-size: auto;\n",
       "    }\n",
       "    progress:not([value]), progress:not([value])::-webkit-progress-bar {\n",
       "        background: repeating-linear-gradient(45deg, #7e7e7e, #7e7e7e 10px, #5c5c5c 10px, #5c5c5c 20px);\n",
       "    }\n",
       "    .progress-bar-interrupted, .progress-bar-interrupted::-webkit-progress-bar {\n",
       "        background: #F44336;\n",
       "    }\n",
       "</style>\n"
      ],
      "text/plain": [
       "<IPython.core.display.HTML object>"
      ]
     },
     "metadata": {},
     "output_type": "display_data"
    },
    {
     "data": {
      "text/html": [
       "<table border=\"1\" class=\"dataframe\">\n",
       "  <thead>\n",
       "    <tr style=\"text-align: left;\">\n",
       "      <th>epoch</th>\n",
       "      <th>train_loss</th>\n",
       "      <th>valid_loss</th>\n",
       "      <th>accuracy</th>\n",
       "      <th>time</th>\n",
       "    </tr>\n",
       "  </thead>\n",
       "  <tbody>\n",
       "    <tr>\n",
       "      <td>0</td>\n",
       "      <td>2.284302</td>\n",
       "      <td>1.193364</td>\n",
       "      <td>0.704545</td>\n",
       "      <td>00:04</td>\n",
       "    </tr>\n",
       "    <tr>\n",
       "      <td>1</td>\n",
       "      <td>1.878806</td>\n",
       "      <td>0.709234</td>\n",
       "      <td>0.818182</td>\n",
       "      <td>00:04</td>\n",
       "    </tr>\n",
       "    <tr>\n",
       "      <td>2</td>\n",
       "      <td>1.473430</td>\n",
       "      <td>0.401274</td>\n",
       "      <td>0.886364</td>\n",
       "      <td>00:04</td>\n",
       "    </tr>\n",
       "    <tr>\n",
       "      <td>3</td>\n",
       "      <td>1.075063</td>\n",
       "      <td>0.257678</td>\n",
       "      <td>0.931818</td>\n",
       "      <td>00:04</td>\n",
       "    </tr>\n",
       "    <tr>\n",
       "      <td>4</td>\n",
       "      <td>0.791528</td>\n",
       "      <td>0.179757</td>\n",
       "      <td>0.962121</td>\n",
       "      <td>00:04</td>\n",
       "    </tr>\n",
       "    <tr>\n",
       "      <td>5</td>\n",
       "      <td>0.577034</td>\n",
       "      <td>0.164639</td>\n",
       "      <td>0.962121</td>\n",
       "      <td>00:04</td>\n",
       "    </tr>\n",
       "    <tr>\n",
       "      <td>6</td>\n",
       "      <td>0.435062</td>\n",
       "      <td>0.153967</td>\n",
       "      <td>0.962121</td>\n",
       "      <td>00:04</td>\n",
       "    </tr>\n",
       "    <tr>\n",
       "      <td>7</td>\n",
       "      <td>0.380733</td>\n",
       "      <td>0.143904</td>\n",
       "      <td>0.954545</td>\n",
       "      <td>00:04</td>\n",
       "    </tr>\n",
       "    <tr>\n",
       "      <td>8</td>\n",
       "      <td>0.341373</td>\n",
       "      <td>0.130304</td>\n",
       "      <td>0.962121</td>\n",
       "      <td>00:04</td>\n",
       "    </tr>\n",
       "    <tr>\n",
       "      <td>9</td>\n",
       "      <td>0.324916</td>\n",
       "      <td>0.131209</td>\n",
       "      <td>0.962121</td>\n",
       "      <td>00:04</td>\n",
       "    </tr>\n",
       "  </tbody>\n",
       "</table>"
      ],
      "text/plain": [
       "<IPython.core.display.HTML object>"
      ]
     },
     "metadata": {},
     "output_type": "display_data"
    },
    {
     "name": "stdout",
     "output_type": "stream",
     "text": [
      "GPU:0\n",
      "process       6728 uses     2292.000 MB GPU memory\n"
     ]
    }
   ],
   "source": [
    "learn = train(arch='vit_small_r26_s32_224',\n",
    "     item=Resize(224, method='squish'),\n",
    "     accum=4, epochs=10, finetune=True)\n",
    "clear_gpu()"
   ]
  },
  {
   "cell_type": "markdown",
   "id": "e772483b",
   "metadata": {
    "papermill": {
     "duration": 0.006358,
     "end_time": "2025-09-08T23:49:36.170620",
     "exception": false,
     "start_time": "2025-09-08T23:49:36.164262",
     "status": "completed"
    },
    "tags": []
   },
   "source": [
    "## Making the submission"
   ]
  },
  {
   "cell_type": "code",
   "execution_count": 17,
   "id": "ead5005c",
   "metadata": {
    "execution": {
     "iopub.execute_input": "2025-09-08T23:49:36.184227Z",
     "iopub.status.busy": "2025-09-08T23:49:36.183967Z",
     "iopub.status.idle": "2025-09-08T23:49:36.188720Z",
     "shell.execute_reply": "2025-09-08T23:49:36.188157Z"
    },
    "papermill": {
     "duration": 0.012923,
     "end_time": "2025-09-08T23:49:36.189810",
     "exception": false,
     "start_time": "2025-09-08T23:49:36.176887",
     "status": "completed"
    },
    "tags": []
   },
   "outputs": [],
   "source": [
    "def sub(n):\n",
    "    tst_x = np.load(path/'X_test.npy')\n",
    "    tst_dl = learn.dls.test_dl(tst_x)\n",
    "    probs,_ = learn.tta(dl=tst_dl)\n",
    "    idxs = np.argmax(probs, axis=1)\n",
    "    preds = pd.Series(learn.dls.vocab[idxs], name='idxs')\n",
    "    subm = pd.DataFrame({'Id': np.arange(300), 'Class': preds})\n",
    "    subm.to_csv(f'sub{n}.csv', index=False)"
   ]
  },
  {
   "cell_type": "code",
   "execution_count": 18,
   "id": "8e545402",
   "metadata": {
    "execution": {
     "iopub.execute_input": "2025-09-08T23:49:36.203290Z",
     "iopub.status.busy": "2025-09-08T23:49:36.203060Z",
     "iopub.status.idle": "2025-09-08T23:49:41.820828Z",
     "shell.execute_reply": "2025-09-08T23:49:41.819899Z"
    },
    "papermill": {
     "duration": 5.626042,
     "end_time": "2025-09-08T23:49:41.822268",
     "exception": false,
     "start_time": "2025-09-08T23:49:36.196226",
     "status": "completed"
    },
    "tags": []
   },
   "outputs": [
    {
     "data": {
      "text/html": [
       "\n",
       "<style>\n",
       "    /* Turns off some styling */\n",
       "    progress {\n",
       "        /* gets rid of default border in Firefox and Opera. */\n",
       "        border: none;\n",
       "        /* Needs to be in here for Safari polyfill so background images work as expected. */\n",
       "        background-size: auto;\n",
       "    }\n",
       "    progress:not([value]), progress:not([value])::-webkit-progress-bar {\n",
       "        background: repeating-linear-gradient(45deg, #7e7e7e, #7e7e7e 10px, #5c5c5c 10px, #5c5c5c 20px);\n",
       "    }\n",
       "    .progress-bar-interrupted, .progress-bar-interrupted::-webkit-progress-bar {\n",
       "        background: #F44336;\n",
       "    }\n",
       "</style>\n"
      ],
      "text/plain": [
       "<IPython.core.display.HTML object>"
      ]
     },
     "metadata": {},
     "output_type": "display_data"
    },
    {
     "data": {
      "text/html": [
       "\n",
       "    <div>\n",
       "      <progress value='0' class='' max='10' style='width:300px; height:20px; vertical-align: middle;'></progress>\n",
       "      \n",
       "    </div>\n",
       "    \n"
      ],
      "text/plain": [
       "<IPython.core.display.HTML object>"
      ]
     },
     "metadata": {},
     "output_type": "display_data"
    },
    {
     "data": {
      "text/html": [
       "\n",
       "<style>\n",
       "    /* Turns off some styling */\n",
       "    progress {\n",
       "        /* gets rid of default border in Firefox and Opera. */\n",
       "        border: none;\n",
       "        /* Needs to be in here for Safari polyfill so background images work as expected. */\n",
       "        background-size: auto;\n",
       "    }\n",
       "    progress:not([value]), progress:not([value])::-webkit-progress-bar {\n",
       "        background: repeating-linear-gradient(45deg, #7e7e7e, #7e7e7e 10px, #5c5c5c 10px, #5c5c5c 20px);\n",
       "    }\n",
       "    .progress-bar-interrupted, .progress-bar-interrupted::-webkit-progress-bar {\n",
       "        background: #F44336;\n",
       "    }\n",
       "</style>\n"
      ],
      "text/plain": [
       "<IPython.core.display.HTML object>"
      ]
     },
     "metadata": {},
     "output_type": "display_data"
    },
    {
     "data": {
      "text/html": [],
      "text/plain": [
       "<IPython.core.display.HTML object>"
      ]
     },
     "metadata": {},
     "output_type": "display_data"
    }
   ],
   "source": [
    "sub(2)"
   ]
  },
  {
   "cell_type": "code",
   "execution_count": 19,
   "id": "14e6f8fb",
   "metadata": {
    "execution": {
     "iopub.execute_input": "2025-09-08T23:49:41.837986Z",
     "iopub.status.busy": "2025-09-08T23:49:41.837732Z",
     "iopub.status.idle": "2025-09-08T23:49:41.998506Z",
     "shell.execute_reply": "2025-09-08T23:49:41.997606Z"
    },
    "papermill": {
     "duration": 0.170318,
     "end_time": "2025-09-08T23:49:41.999991",
     "exception": false,
     "start_time": "2025-09-08T23:49:41.829673",
     "status": "completed"
    },
    "tags": []
   },
   "outputs": [
    {
     "name": "stdout",
     "output_type": "stream",
     "text": [
      "Id,Class\r\n",
      "0,4\r\n",
      "1,16\r\n",
      "2,2\r\n",
      "3,18\r\n",
      "4,11\r\n",
      "5,5\r\n",
      "6,6\r\n",
      "7,4\r\n",
      "8,8\r\n"
     ]
    }
   ],
   "source": [
    "!head sub2.csv"
   ]
  }
 ],
 "metadata": {
  "kaggle": {
   "accelerator": "gpu",
   "dataSources": [
    {
     "databundleVersionId": 109648,
     "sourceId": 8375,
     "sourceType": "competition"
    }
   ],
   "dockerImageVersionId": 31090,
   "isGpuEnabled": true,
   "isInternetEnabled": true,
   "language": "python",
   "sourceType": "notebook"
  },
  "kernelspec": {
   "display_name": "Python 3 (ipykernel)",
   "language": "python",
   "name": "python3"
  },
  "language_info": {
   "codemirror_mode": {
    "name": "ipython",
    "version": 3
   },
   "file_extension": ".py",
   "mimetype": "text/x-python",
   "name": "python",
   "nbconvert_exporter": "python",
   "pygments_lexer": "ipython3",
   "version": "3.11.4"
  },
  "papermill": {
   "default_parameters": {},
   "duration": 957.725609,
   "end_time": "2025-09-08T23:49:45.101640",
   "environment_variables": {},
   "exception": null,
   "input_path": "__notebook__.ipynb",
   "output_path": "__notebook__.ipynb",
   "parameters": {},
   "start_time": "2025-09-08T23:33:47.376031",
   "version": "2.6.0"
  },
  "widgets": {
   "application/vnd.jupyter.widget-state+json": {
    "state": {
     "0dc76a5bc8734d7689d15a582097f43b": {
      "model_module": "@jupyter-widgets/controls",
      "model_module_version": "2.0.0",
      "model_name": "HTMLModel",
      "state": {
       "_dom_classes": [],
       "_model_module": "@jupyter-widgets/controls",
       "_model_module_version": "2.0.0",
       "_model_name": "HTMLModel",
       "_view_count": null,
       "_view_module": "@jupyter-widgets/controls",
       "_view_module_version": "2.0.0",
       "_view_name": "HTMLView",
       "description": "",
       "description_allow_html": false,
       "layout": "IPY_MODEL_ff925e8e32fd4948b487b888e8f00c9a",
       "placeholder": "​",
       "style": "IPY_MODEL_822f9ea729e34791baac9a97b9a1b233",
       "tabbable": null,
       "tooltip": null,
       "value": "model.safetensors: 100%"
      }
     },
     "0eb26ad318f24387a50a4dc007eae581": {
      "model_module": "@jupyter-widgets/controls",
      "model_module_version": "2.0.0",
      "model_name": "HTMLModel",
      "state": {
       "_dom_classes": [],
       "_model_module": "@jupyter-widgets/controls",
       "_model_module_version": "2.0.0",
       "_model_name": "HTMLModel",
       "_view_count": null,
       "_view_module": "@jupyter-widgets/controls",
       "_view_module_version": "2.0.0",
       "_view_name": "HTMLView",
       "description": "",
       "description_allow_html": false,
       "layout": "IPY_MODEL_cbc482ac0415488088608f7c714d65f8",
       "placeholder": "​",
       "style": "IPY_MODEL_8963618d603c42b48042becf86a775da",
       "tabbable": null,
       "tooltip": null,
       "value": " 178M/178M [00:00&lt;00:00, 404MB/s]"
      }
     },
     "2077de1a1f7d471eae7984959353ca4f": {
      "model_module": "@jupyter-widgets/controls",
      "model_module_version": "2.0.0",
      "model_name": "HTMLStyleModel",
      "state": {
       "_model_module": "@jupyter-widgets/controls",
       "_model_module_version": "2.0.0",
       "_model_name": "HTMLStyleModel",
       "_view_count": null,
       "_view_module": "@jupyter-widgets/base",
       "_view_module_version": "2.0.0",
       "_view_name": "StyleView",
       "background": null,
       "description_width": "",
       "font_size": null,
       "text_color": null
      }
     },
     "2558e6859ec34e9d83b642a857802e83": {
      "model_module": "@jupyter-widgets/controls",
      "model_module_version": "2.0.0",
      "model_name": "HTMLModel",
      "state": {
       "_dom_classes": [],
       "_model_module": "@jupyter-widgets/controls",
       "_model_module_version": "2.0.0",
       "_model_name": "HTMLModel",
       "_view_count": null,
       "_view_module": "@jupyter-widgets/controls",
       "_view_module_version": "2.0.0",
       "_view_name": "HTMLView",
       "description": "",
       "description_allow_html": false,
       "layout": "IPY_MODEL_dc7d8dfd39e34e65b445da06c360e3cb",
       "placeholder": "​",
       "style": "IPY_MODEL_2077de1a1f7d471eae7984959353ca4f",
       "tabbable": null,
       "tooltip": null,
       "value": " 146M/146M [00:05&lt;00:00, 28.7MB/s]"
      }
     },
     "2f32f6a267f84cfea7af9f013dda6062": {
      "model_module": "@jupyter-widgets/controls",
      "model_module_version": "2.0.0",
      "model_name": "FloatProgressModel",
      "state": {
       "_dom_classes": [],
       "_model_module": "@jupyter-widgets/controls",
       "_model_module_version": "2.0.0",
       "_model_name": "FloatProgressModel",
       "_view_count": null,
       "_view_module": "@jupyter-widgets/controls",
       "_view_module_version": "2.0.0",
       "_view_name": "ProgressView",
       "bar_style": "success",
       "description": "",
       "description_allow_html": false,
       "layout": "IPY_MODEL_c4c2f62c6446450b97ba9066d143c8c3",
       "max": 178481432,
       "min": 0,
       "orientation": "horizontal",
       "style": "IPY_MODEL_373c5523bab54ba0811b9b97503a6bbf",
       "tabbable": null,
       "tooltip": null,
       "value": 178481432
      }
     },
     "373c5523bab54ba0811b9b97503a6bbf": {
      "model_module": "@jupyter-widgets/controls",
      "model_module_version": "2.0.0",
      "model_name": "ProgressStyleModel",
      "state": {
       "_model_module": "@jupyter-widgets/controls",
       "_model_module_version": "2.0.0",
       "_model_name": "ProgressStyleModel",
       "_view_count": null,
       "_view_module": "@jupyter-widgets/base",
       "_view_module_version": "2.0.0",
       "_view_name": "StyleView",
       "bar_color": null,
       "description_width": ""
      }
     },
     "378b501298304102ae648a0f24e983d1": {
      "model_module": "@jupyter-widgets/controls",
      "model_module_version": "2.0.0",
      "model_name": "ProgressStyleModel",
      "state": {
       "_model_module": "@jupyter-widgets/controls",
       "_model_module_version": "2.0.0",
       "_model_name": "ProgressStyleModel",
       "_view_count": null,
       "_view_module": "@jupyter-widgets/base",
       "_view_module_version": "2.0.0",
       "_view_name": "StyleView",
       "bar_color": null,
       "description_width": ""
      }
     },
     "3dee31e9451942de8169f6a16eb1b2b2": {
      "model_module": "@jupyter-widgets/controls",
      "model_module_version": "2.0.0",
      "model_name": "HTMLModel",
      "state": {
       "_dom_classes": [],
       "_model_module": "@jupyter-widgets/controls",
       "_model_module_version": "2.0.0",
       "_model_name": "HTMLModel",
       "_view_count": null,
       "_view_module": "@jupyter-widgets/controls",
       "_view_module_version": "2.0.0",
       "_view_name": "HTMLView",
       "description": "",
       "description_allow_html": false,
       "layout": "IPY_MODEL_57dc5ae6579644a086f7d0f90c283f74",
       "placeholder": "​",
       "style": "IPY_MODEL_753266dd2822469c8d138050456624c0",
       "tabbable": null,
       "tooltip": null,
       "value": " 919M/919M [00:02&lt;00:00, 400MB/s]"
      }
     },
     "4340d79f469941d382a9e3b88098de6e": {
      "model_module": "@jupyter-widgets/controls",
      "model_module_version": "2.0.0",
      "model_name": "ProgressStyleModel",
      "state": {
       "_model_module": "@jupyter-widgets/controls",
       "_model_module_version": "2.0.0",
       "_model_name": "ProgressStyleModel",
       "_view_count": null,
       "_view_module": "@jupyter-widgets/base",
       "_view_module_version": "2.0.0",
       "_view_name": "StyleView",
       "bar_color": null,
       "description_width": ""
      }
     },
     "47632454e2a44cf6bc07d1ef6092e691": {
      "model_module": "@jupyter-widgets/controls",
      "model_module_version": "2.0.0",
      "model_name": "FloatProgressModel",
      "state": {
       "_dom_classes": [],
       "_model_module": "@jupyter-widgets/controls",
       "_model_module_version": "2.0.0",
       "_model_name": "FloatProgressModel",
       "_view_count": null,
       "_view_module": "@jupyter-widgets/controls",
       "_view_module_version": "2.0.0",
       "_view_name": "ProgressView",
       "bar_style": "success",
       "description": "",
       "description_allow_html": false,
       "layout": "IPY_MODEL_98c5f8e780154e1d9296d63e3f9211be",
       "max": 145752166,
       "min": 0,
       "orientation": "horizontal",
       "style": "IPY_MODEL_4340d79f469941d382a9e3b88098de6e",
       "tabbable": null,
       "tooltip": null,
       "value": 145752166
      }
     },
     "4e792b5a0d314ae19e7d168a7377291c": {
      "model_module": "@jupyter-widgets/controls",
      "model_module_version": "2.0.0",
      "model_name": "FloatProgressModel",
      "state": {
       "_dom_classes": [],
       "_model_module": "@jupyter-widgets/controls",
       "_model_module_version": "2.0.0",
       "_model_name": "FloatProgressModel",
       "_view_count": null,
       "_view_module": "@jupyter-widgets/controls",
       "_view_module_version": "2.0.0",
       "_view_name": "ProgressView",
       "bar_style": "success",
       "description": "",
       "description_allow_html": false,
       "layout": "IPY_MODEL_85077508404b4cfe84a29799e727eacc",
       "max": 919234676,
       "min": 0,
       "orientation": "horizontal",
       "style": "IPY_MODEL_378b501298304102ae648a0f24e983d1",
       "tabbable": null,
       "tooltip": null,
       "value": 919234676
      }
     },
     "57dc5ae6579644a086f7d0f90c283f74": {
      "model_module": "@jupyter-widgets/base",
      "model_module_version": "2.0.0",
      "model_name": "LayoutModel",
      "state": {
       "_model_module": "@jupyter-widgets/base",
       "_model_module_version": "2.0.0",
       "_model_name": "LayoutModel",
       "_view_count": null,
       "_view_module": "@jupyter-widgets/base",
       "_view_module_version": "2.0.0",
       "_view_name": "LayoutView",
       "align_content": null,
       "align_items": null,
       "align_self": null,
       "border_bottom": null,
       "border_left": null,
       "border_right": null,
       "border_top": null,
       "bottom": null,
       "display": null,
       "flex": null,
       "flex_flow": null,
       "grid_area": null,
       "grid_auto_columns": null,
       "grid_auto_flow": null,
       "grid_auto_rows": null,
       "grid_column": null,
       "grid_gap": null,
       "grid_row": null,
       "grid_template_areas": null,
       "grid_template_columns": null,
       "grid_template_rows": null,
       "height": null,
       "justify_content": null,
       "justify_items": null,
       "left": null,
       "margin": null,
       "max_height": null,
       "max_width": null,
       "min_height": null,
       "min_width": null,
       "object_fit": null,
       "object_position": null,
       "order": null,
       "overflow": null,
       "padding": null,
       "right": null,
       "top": null,
       "visibility": null,
       "width": null
      }
     },
     "5c3a6bd4b1bc4f65957cb0e5d1a23ec1": {
      "model_module": "@jupyter-widgets/controls",
      "model_module_version": "2.0.0",
      "model_name": "HBoxModel",
      "state": {
       "_dom_classes": [],
       "_model_module": "@jupyter-widgets/controls",
       "_model_module_version": "2.0.0",
       "_model_name": "HBoxModel",
       "_view_count": null,
       "_view_module": "@jupyter-widgets/controls",
       "_view_module_version": "2.0.0",
       "_view_name": "HBoxView",
       "box_style": "",
       "children": [
        "IPY_MODEL_afe59bad0734453185e2929a7f9a1463",
        "IPY_MODEL_47632454e2a44cf6bc07d1ef6092e691",
        "IPY_MODEL_2558e6859ec34e9d83b642a857802e83"
       ],
       "layout": "IPY_MODEL_9c508a9324f14150a15c32962311cb23",
       "tabbable": null,
       "tooltip": null
      }
     },
     "753266dd2822469c8d138050456624c0": {
      "model_module": "@jupyter-widgets/controls",
      "model_module_version": "2.0.0",
      "model_name": "HTMLStyleModel",
      "state": {
       "_model_module": "@jupyter-widgets/controls",
       "_model_module_version": "2.0.0",
       "_model_name": "HTMLStyleModel",
       "_view_count": null,
       "_view_module": "@jupyter-widgets/base",
       "_view_module_version": "2.0.0",
       "_view_name": "StyleView",
       "background": null,
       "description_width": "",
       "font_size": null,
       "text_color": null
      }
     },
     "8021fe31b24144979f6c1bd1e4abf75b": {
      "model_module": "@jupyter-widgets/base",
      "model_module_version": "2.0.0",
      "model_name": "LayoutModel",
      "state": {
       "_model_module": "@jupyter-widgets/base",
       "_model_module_version": "2.0.0",
       "_model_name": "LayoutModel",
       "_view_count": null,
       "_view_module": "@jupyter-widgets/base",
       "_view_module_version": "2.0.0",
       "_view_name": "LayoutView",
       "align_content": null,
       "align_items": null,
       "align_self": null,
       "border_bottom": null,
       "border_left": null,
       "border_right": null,
       "border_top": null,
       "bottom": null,
       "display": null,
       "flex": null,
       "flex_flow": null,
       "grid_area": null,
       "grid_auto_columns": null,
       "grid_auto_flow": null,
       "grid_auto_rows": null,
       "grid_column": null,
       "grid_gap": null,
       "grid_row": null,
       "grid_template_areas": null,
       "grid_template_columns": null,
       "grid_template_rows": null,
       "height": null,
       "justify_content": null,
       "justify_items": null,
       "left": null,
       "margin": null,
       "max_height": null,
       "max_width": null,
       "min_height": null,
       "min_width": null,
       "object_fit": null,
       "object_position": null,
       "order": null,
       "overflow": null,
       "padding": null,
       "right": null,
       "top": null,
       "visibility": null,
       "width": null
      }
     },
     "822f9ea729e34791baac9a97b9a1b233": {
      "model_module": "@jupyter-widgets/controls",
      "model_module_version": "2.0.0",
      "model_name": "HTMLStyleModel",
      "state": {
       "_model_module": "@jupyter-widgets/controls",
       "_model_module_version": "2.0.0",
       "_model_name": "HTMLStyleModel",
       "_view_count": null,
       "_view_module": "@jupyter-widgets/base",
       "_view_module_version": "2.0.0",
       "_view_name": "StyleView",
       "background": null,
       "description_width": "",
       "font_size": null,
       "text_color": null
      }
     },
     "84fa510f16764ac292c46a0e6d897872": {
      "model_module": "@jupyter-widgets/base",
      "model_module_version": "2.0.0",
      "model_name": "LayoutModel",
      "state": {
       "_model_module": "@jupyter-widgets/base",
       "_model_module_version": "2.0.0",
       "_model_name": "LayoutModel",
       "_view_count": null,
       "_view_module": "@jupyter-widgets/base",
       "_view_module_version": "2.0.0",
       "_view_name": "LayoutView",
       "align_content": null,
       "align_items": null,
       "align_self": null,
       "border_bottom": null,
       "border_left": null,
       "border_right": null,
       "border_top": null,
       "bottom": null,
       "display": null,
       "flex": null,
       "flex_flow": null,
       "grid_area": null,
       "grid_auto_columns": null,
       "grid_auto_flow": null,
       "grid_auto_rows": null,
       "grid_column": null,
       "grid_gap": null,
       "grid_row": null,
       "grid_template_areas": null,
       "grid_template_columns": null,
       "grid_template_rows": null,
       "height": null,
       "justify_content": null,
       "justify_items": null,
       "left": null,
       "margin": null,
       "max_height": null,
       "max_width": null,
       "min_height": null,
       "min_width": null,
       "object_fit": null,
       "object_position": null,
       "order": null,
       "overflow": null,
       "padding": null,
       "right": null,
       "top": null,
       "visibility": null,
       "width": null
      }
     },
     "85077508404b4cfe84a29799e727eacc": {
      "model_module": "@jupyter-widgets/base",
      "model_module_version": "2.0.0",
      "model_name": "LayoutModel",
      "state": {
       "_model_module": "@jupyter-widgets/base",
       "_model_module_version": "2.0.0",
       "_model_name": "LayoutModel",
       "_view_count": null,
       "_view_module": "@jupyter-widgets/base",
       "_view_module_version": "2.0.0",
       "_view_name": "LayoutView",
       "align_content": null,
       "align_items": null,
       "align_self": null,
       "border_bottom": null,
       "border_left": null,
       "border_right": null,
       "border_top": null,
       "bottom": null,
       "display": null,
       "flex": null,
       "flex_flow": null,
       "grid_area": null,
       "grid_auto_columns": null,
       "grid_auto_flow": null,
       "grid_auto_rows": null,
       "grid_column": null,
       "grid_gap": null,
       "grid_row": null,
       "grid_template_areas": null,
       "grid_template_columns": null,
       "grid_template_rows": null,
       "height": null,
       "justify_content": null,
       "justify_items": null,
       "left": null,
       "margin": null,
       "max_height": null,
       "max_width": null,
       "min_height": null,
       "min_width": null,
       "object_fit": null,
       "object_position": null,
       "order": null,
       "overflow": null,
       "padding": null,
       "right": null,
       "top": null,
       "visibility": null,
       "width": null
      }
     },
     "8963618d603c42b48042becf86a775da": {
      "model_module": "@jupyter-widgets/controls",
      "model_module_version": "2.0.0",
      "model_name": "HTMLStyleModel",
      "state": {
       "_model_module": "@jupyter-widgets/controls",
       "_model_module_version": "2.0.0",
       "_model_name": "HTMLStyleModel",
       "_view_count": null,
       "_view_module": "@jupyter-widgets/base",
       "_view_module_version": "2.0.0",
       "_view_name": "StyleView",
       "background": null,
       "description_width": "",
       "font_size": null,
       "text_color": null
      }
     },
     "98c5f8e780154e1d9296d63e3f9211be": {
      "model_module": "@jupyter-widgets/base",
      "model_module_version": "2.0.0",
      "model_name": "LayoutModel",
      "state": {
       "_model_module": "@jupyter-widgets/base",
       "_model_module_version": "2.0.0",
       "_model_name": "LayoutModel",
       "_view_count": null,
       "_view_module": "@jupyter-widgets/base",
       "_view_module_version": "2.0.0",
       "_view_name": "LayoutView",
       "align_content": null,
       "align_items": null,
       "align_self": null,
       "border_bottom": null,
       "border_left": null,
       "border_right": null,
       "border_top": null,
       "bottom": null,
       "display": null,
       "flex": null,
       "flex_flow": null,
       "grid_area": null,
       "grid_auto_columns": null,
       "grid_auto_flow": null,
       "grid_auto_rows": null,
       "grid_column": null,
       "grid_gap": null,
       "grid_row": null,
       "grid_template_areas": null,
       "grid_template_columns": null,
       "grid_template_rows": null,
       "height": null,
       "justify_content": null,
       "justify_items": null,
       "left": null,
       "margin": null,
       "max_height": null,
       "max_width": null,
       "min_height": null,
       "min_width": null,
       "object_fit": null,
       "object_position": null,
       "order": null,
       "overflow": null,
       "padding": null,
       "right": null,
       "top": null,
       "visibility": null,
       "width": null
      }
     },
     "9c508a9324f14150a15c32962311cb23": {
      "model_module": "@jupyter-widgets/base",
      "model_module_version": "2.0.0",
      "model_name": "LayoutModel",
      "state": {
       "_model_module": "@jupyter-widgets/base",
       "_model_module_version": "2.0.0",
       "_model_name": "LayoutModel",
       "_view_count": null,
       "_view_module": "@jupyter-widgets/base",
       "_view_module_version": "2.0.0",
       "_view_name": "LayoutView",
       "align_content": null,
       "align_items": null,
       "align_self": null,
       "border_bottom": null,
       "border_left": null,
       "border_right": null,
       "border_top": null,
       "bottom": null,
       "display": null,
       "flex": null,
       "flex_flow": null,
       "grid_area": null,
       "grid_auto_columns": null,
       "grid_auto_flow": null,
       "grid_auto_rows": null,
       "grid_column": null,
       "grid_gap": null,
       "grid_row": null,
       "grid_template_areas": null,
       "grid_template_columns": null,
       "grid_template_rows": null,
       "height": null,
       "justify_content": null,
       "justify_items": null,
       "left": null,
       "margin": null,
       "max_height": null,
       "max_width": null,
       "min_height": null,
       "min_width": null,
       "object_fit": null,
       "object_position": null,
       "order": null,
       "overflow": null,
       "padding": null,
       "right": null,
       "top": null,
       "visibility": null,
       "width": null
      }
     },
     "a1165b89d6ed42288e6ec75dfdc3f1d6": {
      "model_module": "@jupyter-widgets/controls",
      "model_module_version": "2.0.0",
      "model_name": "HTMLStyleModel",
      "state": {
       "_model_module": "@jupyter-widgets/controls",
       "_model_module_version": "2.0.0",
       "_model_name": "HTMLStyleModel",
       "_view_count": null,
       "_view_module": "@jupyter-widgets/base",
       "_view_module_version": "2.0.0",
       "_view_name": "StyleView",
       "background": null,
       "description_width": "",
       "font_size": null,
       "text_color": null
      }
     },
     "afe59bad0734453185e2929a7f9a1463": {
      "model_module": "@jupyter-widgets/controls",
      "model_module_version": "2.0.0",
      "model_name": "HTMLModel",
      "state": {
       "_dom_classes": [],
       "_model_module": "@jupyter-widgets/controls",
       "_model_module_version": "2.0.0",
       "_model_name": "HTMLModel",
       "_view_count": null,
       "_view_module": "@jupyter-widgets/controls",
       "_view_module_version": "2.0.0",
       "_view_name": "HTMLView",
       "description": "",
       "description_allow_html": false,
       "layout": "IPY_MODEL_8021fe31b24144979f6c1bd1e4abf75b",
       "placeholder": "​",
       "style": "IPY_MODEL_bc04579bbf2744ac85314fcb958c8e27",
       "tabbable": null,
       "tooltip": null,
       "value": "model.safetensors: 100%"
      }
     },
     "bc04579bbf2744ac85314fcb958c8e27": {
      "model_module": "@jupyter-widgets/controls",
      "model_module_version": "2.0.0",
      "model_name": "HTMLStyleModel",
      "state": {
       "_model_module": "@jupyter-widgets/controls",
       "_model_module_version": "2.0.0",
       "_model_name": "HTMLStyleModel",
       "_view_count": null,
       "_view_module": "@jupyter-widgets/base",
       "_view_module_version": "2.0.0",
       "_view_name": "StyleView",
       "background": null,
       "description_width": "",
       "font_size": null,
       "text_color": null
      }
     },
     "bc8a5fc80d3e452d983ee1a26323b471": {
      "model_module": "@jupyter-widgets/base",
      "model_module_version": "2.0.0",
      "model_name": "LayoutModel",
      "state": {
       "_model_module": "@jupyter-widgets/base",
       "_model_module_version": "2.0.0",
       "_model_name": "LayoutModel",
       "_view_count": null,
       "_view_module": "@jupyter-widgets/base",
       "_view_module_version": "2.0.0",
       "_view_name": "LayoutView",
       "align_content": null,
       "align_items": null,
       "align_self": null,
       "border_bottom": null,
       "border_left": null,
       "border_right": null,
       "border_top": null,
       "bottom": null,
       "display": null,
       "flex": null,
       "flex_flow": null,
       "grid_area": null,
       "grid_auto_columns": null,
       "grid_auto_flow": null,
       "grid_auto_rows": null,
       "grid_column": null,
       "grid_gap": null,
       "grid_row": null,
       "grid_template_areas": null,
       "grid_template_columns": null,
       "grid_template_rows": null,
       "height": null,
       "justify_content": null,
       "justify_items": null,
       "left": null,
       "margin": null,
       "max_height": null,
       "max_width": null,
       "min_height": null,
       "min_width": null,
       "object_fit": null,
       "object_position": null,
       "order": null,
       "overflow": null,
       "padding": null,
       "right": null,
       "top": null,
       "visibility": null,
       "width": null
      }
     },
     "bd17700e86524697b5cf05fbd168716c": {
      "model_module": "@jupyter-widgets/controls",
      "model_module_version": "2.0.0",
      "model_name": "HBoxModel",
      "state": {
       "_dom_classes": [],
       "_model_module": "@jupyter-widgets/controls",
       "_model_module_version": "2.0.0",
       "_model_name": "HBoxModel",
       "_view_count": null,
       "_view_module": "@jupyter-widgets/controls",
       "_view_module_version": "2.0.0",
       "_view_name": "HBoxView",
       "box_style": "",
       "children": [
        "IPY_MODEL_f442d6775e3843718a33a25d6f011217",
        "IPY_MODEL_4e792b5a0d314ae19e7d168a7377291c",
        "IPY_MODEL_3dee31e9451942de8169f6a16eb1b2b2"
       ],
       "layout": "IPY_MODEL_84fa510f16764ac292c46a0e6d897872",
       "tabbable": null,
       "tooltip": null
      }
     },
     "c0deadd011174acc83c60a185954535a": {
      "model_module": "@jupyter-widgets/base",
      "model_module_version": "2.0.0",
      "model_name": "LayoutModel",
      "state": {
       "_model_module": "@jupyter-widgets/base",
       "_model_module_version": "2.0.0",
       "_model_name": "LayoutModel",
       "_view_count": null,
       "_view_module": "@jupyter-widgets/base",
       "_view_module_version": "2.0.0",
       "_view_name": "LayoutView",
       "align_content": null,
       "align_items": null,
       "align_self": null,
       "border_bottom": null,
       "border_left": null,
       "border_right": null,
       "border_top": null,
       "bottom": null,
       "display": null,
       "flex": null,
       "flex_flow": null,
       "grid_area": null,
       "grid_auto_columns": null,
       "grid_auto_flow": null,
       "grid_auto_rows": null,
       "grid_column": null,
       "grid_gap": null,
       "grid_row": null,
       "grid_template_areas": null,
       "grid_template_columns": null,
       "grid_template_rows": null,
       "height": null,
       "justify_content": null,
       "justify_items": null,
       "left": null,
       "margin": null,
       "max_height": null,
       "max_width": null,
       "min_height": null,
       "min_width": null,
       "object_fit": null,
       "object_position": null,
       "order": null,
       "overflow": null,
       "padding": null,
       "right": null,
       "top": null,
       "visibility": null,
       "width": null
      }
     },
     "c4c2f62c6446450b97ba9066d143c8c3": {
      "model_module": "@jupyter-widgets/base",
      "model_module_version": "2.0.0",
      "model_name": "LayoutModel",
      "state": {
       "_model_module": "@jupyter-widgets/base",
       "_model_module_version": "2.0.0",
       "_model_name": "LayoutModel",
       "_view_count": null,
       "_view_module": "@jupyter-widgets/base",
       "_view_module_version": "2.0.0",
       "_view_name": "LayoutView",
       "align_content": null,
       "align_items": null,
       "align_self": null,
       "border_bottom": null,
       "border_left": null,
       "border_right": null,
       "border_top": null,
       "bottom": null,
       "display": null,
       "flex": null,
       "flex_flow": null,
       "grid_area": null,
       "grid_auto_columns": null,
       "grid_auto_flow": null,
       "grid_auto_rows": null,
       "grid_column": null,
       "grid_gap": null,
       "grid_row": null,
       "grid_template_areas": null,
       "grid_template_columns": null,
       "grid_template_rows": null,
       "height": null,
       "justify_content": null,
       "justify_items": null,
       "left": null,
       "margin": null,
       "max_height": null,
       "max_width": null,
       "min_height": null,
       "min_width": null,
       "object_fit": null,
       "object_position": null,
       "order": null,
       "overflow": null,
       "padding": null,
       "right": null,
       "top": null,
       "visibility": null,
       "width": null
      }
     },
     "cbc482ac0415488088608f7c714d65f8": {
      "model_module": "@jupyter-widgets/base",
      "model_module_version": "2.0.0",
      "model_name": "LayoutModel",
      "state": {
       "_model_module": "@jupyter-widgets/base",
       "_model_module_version": "2.0.0",
       "_model_name": "LayoutModel",
       "_view_count": null,
       "_view_module": "@jupyter-widgets/base",
       "_view_module_version": "2.0.0",
       "_view_name": "LayoutView",
       "align_content": null,
       "align_items": null,
       "align_self": null,
       "border_bottom": null,
       "border_left": null,
       "border_right": null,
       "border_top": null,
       "bottom": null,
       "display": null,
       "flex": null,
       "flex_flow": null,
       "grid_area": null,
       "grid_auto_columns": null,
       "grid_auto_flow": null,
       "grid_auto_rows": null,
       "grid_column": null,
       "grid_gap": null,
       "grid_row": null,
       "grid_template_areas": null,
       "grid_template_columns": null,
       "grid_template_rows": null,
       "height": null,
       "justify_content": null,
       "justify_items": null,
       "left": null,
       "margin": null,
       "max_height": null,
       "max_width": null,
       "min_height": null,
       "min_width": null,
       "object_fit": null,
       "object_position": null,
       "order": null,
       "overflow": null,
       "padding": null,
       "right": null,
       "top": null,
       "visibility": null,
       "width": null
      }
     },
     "dc7d8dfd39e34e65b445da06c360e3cb": {
      "model_module": "@jupyter-widgets/base",
      "model_module_version": "2.0.0",
      "model_name": "LayoutModel",
      "state": {
       "_model_module": "@jupyter-widgets/base",
       "_model_module_version": "2.0.0",
       "_model_name": "LayoutModel",
       "_view_count": null,
       "_view_module": "@jupyter-widgets/base",
       "_view_module_version": "2.0.0",
       "_view_name": "LayoutView",
       "align_content": null,
       "align_items": null,
       "align_self": null,
       "border_bottom": null,
       "border_left": null,
       "border_right": null,
       "border_top": null,
       "bottom": null,
       "display": null,
       "flex": null,
       "flex_flow": null,
       "grid_area": null,
       "grid_auto_columns": null,
       "grid_auto_flow": null,
       "grid_auto_rows": null,
       "grid_column": null,
       "grid_gap": null,
       "grid_row": null,
       "grid_template_areas": null,
       "grid_template_columns": null,
       "grid_template_rows": null,
       "height": null,
       "justify_content": null,
       "justify_items": null,
       "left": null,
       "margin": null,
       "max_height": null,
       "max_width": null,
       "min_height": null,
       "min_width": null,
       "object_fit": null,
       "object_position": null,
       "order": null,
       "overflow": null,
       "padding": null,
       "right": null,
       "top": null,
       "visibility": null,
       "width": null
      }
     },
     "eccc60cc5b9848d9a5ab60ea5f1691fc": {
      "model_module": "@jupyter-widgets/controls",
      "model_module_version": "2.0.0",
      "model_name": "HBoxModel",
      "state": {
       "_dom_classes": [],
       "_model_module": "@jupyter-widgets/controls",
       "_model_module_version": "2.0.0",
       "_model_name": "HBoxModel",
       "_view_count": null,
       "_view_module": "@jupyter-widgets/controls",
       "_view_module_version": "2.0.0",
       "_view_name": "HBoxView",
       "box_style": "",
       "children": [
        "IPY_MODEL_0dc76a5bc8734d7689d15a582097f43b",
        "IPY_MODEL_2f32f6a267f84cfea7af9f013dda6062",
        "IPY_MODEL_0eb26ad318f24387a50a4dc007eae581"
       ],
       "layout": "IPY_MODEL_c0deadd011174acc83c60a185954535a",
       "tabbable": null,
       "tooltip": null
      }
     },
     "f442d6775e3843718a33a25d6f011217": {
      "model_module": "@jupyter-widgets/controls",
      "model_module_version": "2.0.0",
      "model_name": "HTMLModel",
      "state": {
       "_dom_classes": [],
       "_model_module": "@jupyter-widgets/controls",
       "_model_module_version": "2.0.0",
       "_model_name": "HTMLModel",
       "_view_count": null,
       "_view_module": "@jupyter-widgets/controls",
       "_view_module_version": "2.0.0",
       "_view_name": "HTMLView",
       "description": "",
       "description_allow_html": false,
       "layout": "IPY_MODEL_bc8a5fc80d3e452d983ee1a26323b471",
       "placeholder": "​",
       "style": "IPY_MODEL_a1165b89d6ed42288e6ec75dfdc3f1d6",
       "tabbable": null,
       "tooltip": null,
       "value": "model.safetensors: 100%"
      }
     },
     "ff925e8e32fd4948b487b888e8f00c9a": {
      "model_module": "@jupyter-widgets/base",
      "model_module_version": "2.0.0",
      "model_name": "LayoutModel",
      "state": {
       "_model_module": "@jupyter-widgets/base",
       "_model_module_version": "2.0.0",
       "_model_name": "LayoutModel",
       "_view_count": null,
       "_view_module": "@jupyter-widgets/base",
       "_view_module_version": "2.0.0",
       "_view_name": "LayoutView",
       "align_content": null,
       "align_items": null,
       "align_self": null,
       "border_bottom": null,
       "border_left": null,
       "border_right": null,
       "border_top": null,
       "bottom": null,
       "display": null,
       "flex": null,
       "flex_flow": null,
       "grid_area": null,
       "grid_auto_columns": null,
       "grid_auto_flow": null,
       "grid_auto_rows": null,
       "grid_column": null,
       "grid_gap": null,
       "grid_row": null,
       "grid_template_areas": null,
       "grid_template_columns": null,
       "grid_template_rows": null,
       "height": null,
       "justify_content": null,
       "justify_items": null,
       "left": null,
       "margin": null,
       "max_height": null,
       "max_width": null,
       "min_height": null,
       "min_width": null,
       "object_fit": null,
       "object_position": null,
       "order": null,
       "overflow": null,
       "padding": null,
       "right": null,
       "top": null,
       "visibility": null,
       "width": null
      }
     }
    },
    "version_major": 2,
    "version_minor": 0
   }
  }
 },
 "nbformat": 4,
 "nbformat_minor": 5
}
