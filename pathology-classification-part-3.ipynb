{
 "cells": [
  {
   "cell_type": "code",
   "execution_count": 1,
   "id": "d5627a21",
   "metadata": {
    "_cell_guid": "b1076dfc-b9ad-4769-8c92-a6c4dae69d19",
    "_uuid": "8f2839f25d086af736a60e9eeb907d3b93b6e0e5",
    "execution": {
     "iopub.execute_input": "2025-09-11T02:47:15.239146Z",
     "iopub.status.busy": "2025-09-11T02:47:15.238851Z",
     "iopub.status.idle": "2025-09-11T02:47:16.620069Z",
     "shell.execute_reply": "2025-09-11T02:47:16.619311Z"
    },
    "papermill": {
     "duration": 1.386524,
     "end_time": "2025-09-11T02:47:16.621440",
     "exception": false,
     "start_time": "2025-09-11T02:47:15.234916",
     "status": "completed"
    },
    "tags": []
   },
   "outputs": [
    {
     "name": "stdout",
     "output_type": "stream",
     "text": [
      "./digitalpathology/X_test.npy\n",
      "./digitalpathology/X.npy\n",
      "./digitalpathology/Y.npy\n"
     ]
    }
   ],
   "source": [
    "import numpy as np # linear algebra\n",
    "import pandas as pd # data processing, CSV file I/O (e.g. pd.read_csv)\n",
    "import os\n",
    "for dirname, _, filenames in os.walk('./digitalpathology'):\n",
    "    for filename in filenames:\n",
    "        print(os.path.join(dirname, filename))"
   ]
  },
  {
   "cell_type": "code",
   "execution_count": 2,
   "id": "b1df38e3",
   "metadata": {
    "execution": {
     "iopub.execute_input": "2025-09-11T02:47:16.629304Z",
     "iopub.status.busy": "2025-09-11T02:47:16.628577Z",
     "iopub.status.idle": "2025-09-11T02:47:31.270847Z",
     "shell.execute_reply": "2025-09-11T02:47:31.270236Z"
    },
    "papermill": {
     "duration": 14.646952,
     "end_time": "2025-09-11T02:47:31.272163",
     "exception": false,
     "start_time": "2025-09-11T02:47:16.625211",
     "status": "completed"
    },
    "tags": []
   },
   "outputs": [],
   "source": [
    "from fastai.vision.all import *"
   ]
  },
  {
   "cell_type": "markdown",
   "id": "6660c14d",
   "metadata": {
    "papermill": {
     "duration": 0.002315,
     "end_time": "2025-09-11T02:47:31.277180",
     "exception": false,
     "start_time": "2025-09-11T02:47:31.274865",
     "status": "completed"
    },
    "tags": []
   },
   "source": [
    "## Intro\n",
    "\n",
    "Last submission, I used the ```vit_small_r26_s32_224``` model with augmentation at training and TTA, and an item resize method of ```'squish'```. It improved accuracy from our initial starting point. However, to push the score up even more, I want to try a larger model, specifically the ```convnext_large_in22k``` model."
   ]
  },
  {
   "cell_type": "code",
   "execution_count": 3,
   "id": "3de2d1bf",
   "metadata": {
    "execution": {
     "iopub.execute_input": "2025-09-11T02:47:31.282508Z",
     "iopub.status.busy": "2025-09-11T02:47:31.282302Z",
     "iopub.status.idle": "2025-09-11T02:47:31.962346Z",
     "shell.execute_reply": "2025-09-11T02:47:31.961563Z"
    },
    "papermill": {
     "duration": 0.684325,
     "end_time": "2025-09-11T02:47:31.963763",
     "exception": false,
     "start_time": "2025-09-11T02:47:31.279438",
     "status": "completed"
    },
    "tags": []
   },
   "outputs": [],
   "source": [
    "path = Path('./digitalpathology')\n",
    "trn_x = np.load(path/'X.npy')\n",
    "trn_y = np.load(path/'Y.npy')\n",
    "trn_y_df = pd.DataFrame({'idx': np.arange(len(trn_y)), 'label': trn_y})"
   ]
  },
  {
   "cell_type": "markdown",
   "id": "87cf37d3",
   "metadata": {
    "papermill": {
     "duration": 0.002211,
     "end_time": "2025-09-11T02:47:31.968590",
     "exception": false,
     "start_time": "2025-09-11T02:47:31.966379",
     "status": "completed"
    },
    "tags": []
   },
   "source": [
    "## Setting up Functions"
   ]
  },
  {
   "cell_type": "code",
   "execution_count": 4,
   "id": "3435eb7f",
   "metadata": {
    "execution": {
     "iopub.execute_input": "2025-09-11T02:47:31.974206Z",
     "iopub.status.busy": "2025-09-11T02:47:31.973591Z",
     "iopub.status.idle": "2025-09-11T02:47:31.977380Z",
     "shell.execute_reply": "2025-09-11T02:47:31.976842Z"
    },
    "papermill": {
     "duration": 0.007687,
     "end_time": "2025-09-11T02:47:31.978497",
     "exception": false,
     "start_time": "2025-09-11T02:47:31.970810",
     "status": "completed"
    },
    "tags": []
   },
   "outputs": [],
   "source": [
    "def get_x(row):\n",
    "    idx = row['idx']\n",
    "    img_pix = trn_x[idx]\n",
    "    img_pix = np.stack([img_pix]*3, axis=-1)\n",
    "    return PILImage.create(img_pix.astype(np.uint8))"
   ]
  },
  {
   "cell_type": "code",
   "execution_count": 5,
   "id": "0e7eec8a",
   "metadata": {
    "execution": {
     "iopub.execute_input": "2025-09-11T02:47:31.984037Z",
     "iopub.status.busy": "2025-09-11T02:47:31.983471Z",
     "iopub.status.idle": "2025-09-11T02:47:31.988013Z",
     "shell.execute_reply": "2025-09-11T02:47:31.987516Z"
    },
    "papermill": {
     "duration": 0.008294,
     "end_time": "2025-09-11T02:47:31.989040",
     "exception": false,
     "start_time": "2025-09-11T02:47:31.980746",
     "status": "completed"
    },
    "tags": []
   },
   "outputs": [],
   "source": [
    "def train(arch,item,accum=1,epochs=5,finetune=False):\n",
    "    dblock = DataBlock(\n",
    "        blocks=(ImageBlock, CategoryBlock),\n",
    "        get_x=get_x,\n",
    "        get_y=ColReader('label'),\n",
    "        item_tfms=item,\n",
    "        batch_tfms=aug_transforms(size=224, min_scale=0.75))\n",
    "    cbs = GradientAccumulation(64) if accum else []\n",
    "    dls = dblock.dataloaders(trn_y_df, bs=64//accum)\n",
    "    learn = vision_learner(dls, arch, metrics=accuracy, cbs=cbs).to_fp16()\n",
    "    if finetune:\n",
    "        learn.fine_tune(epochs)\n",
    "        return learn\n",
    "    else:\n",
    "        learn.unfreeze()\n",
    "        learn.fit_one_cycle(epochs)"
   ]
  },
  {
   "cell_type": "code",
   "execution_count": 6,
   "id": "f5676165",
   "metadata": {
    "execution": {
     "iopub.execute_input": "2025-09-11T02:47:31.994504Z",
     "iopub.status.busy": "2025-09-11T02:47:31.994008Z",
     "iopub.status.idle": "2025-09-11T02:47:31.997447Z",
     "shell.execute_reply": "2025-09-11T02:47:31.996785Z"
    },
    "papermill": {
     "duration": 0.007252,
     "end_time": "2025-09-11T02:47:31.998546",
     "exception": false,
     "start_time": "2025-09-11T02:47:31.991294",
     "status": "completed"
    },
    "tags": []
   },
   "outputs": [],
   "source": [
    "import gc\n",
    "def clear_gpu():\n",
    "    print(torch.cuda.list_gpu_processes())\n",
    "    gc.collect()\n",
    "    torch.cuda.empty_cache()"
   ]
  },
  {
   "cell_type": "markdown",
   "id": "a2559b4c",
   "metadata": {
    "papermill": {
     "duration": 0.002085,
     "end_time": "2025-09-11T02:47:32.002886",
     "exception": false,
     "start_time": "2025-09-11T02:47:32.000801",
     "status": "completed"
    },
    "tags": []
   },
   "source": [
    "## Run the Model"
   ]
  },
  {
   "cell_type": "code",
   "execution_count": 7,
   "id": "8296bfd1",
   "metadata": {
    "execution": {
     "iopub.execute_input": "2025-09-11T02:47:32.007954Z",
     "iopub.status.busy": "2025-09-11T02:47:32.007764Z",
     "iopub.status.idle": "2025-09-11T03:01:07.347445Z",
     "shell.execute_reply": "2025-09-11T03:01:07.346481Z"
    },
    "papermill": {
     "duration": 815.343625,
     "end_time": "2025-09-11T03:01:07.348675",
     "exception": false,
     "start_time": "2025-09-11T02:47:32.005050",
     "status": "completed"
    },
    "tags": []
   },
   "outputs": [
    {
     "name": "stderr",
     "output_type": "stream",
     "text": [
      "/usr/local/lib/python3.11/dist-packages/timm/models/_factory.py:126: UserWarning: Mapping deprecated model name convnext_large_in22k to current convnext_large.fb_in22k.\n",
      "  model = create_fn(\n"
     ]
    },
    {
     "data": {
      "application/vnd.jupyter.widget-view+json": {
       "model_id": "7de18a98abdf4fca8f7808e51681e8be",
       "version_major": 2,
       "version_minor": 0
      },
      "text/plain": [
       "model.safetensors:   0%|          | 0.00/919M [00:00<?, ?B/s]"
      ]
     },
     "metadata": {},
     "output_type": "display_data"
    },
    {
     "name": "stderr",
     "output_type": "stream",
     "text": [
      "/usr/local/lib/python3.11/dist-packages/fastai/callback/fp16.py:47: FutureWarning: `torch.cuda.amp.autocast(args...)` is deprecated. Please use `torch.amp.autocast('cuda', args...)` instead.\n",
      "  self.autocast,self.learn.scaler,self.scales = autocast(dtype=dtype),GradScaler(**self.kwargs),L()\n",
      "/usr/local/lib/python3.11/dist-packages/fastai/callback/fp16.py:47: FutureWarning: `torch.cuda.amp.GradScaler(args...)` is deprecated. Please use `torch.amp.GradScaler('cuda', args...)` instead.\n",
      "  self.autocast,self.learn.scaler,self.scales = autocast(dtype=dtype),GradScaler(**self.kwargs),L()\n"
     ]
    },
    {
     "data": {
      "text/html": [
       "\n",
       "<style>\n",
       "    /* Turns off some styling */\n",
       "    progress {\n",
       "        /* gets rid of default border in Firefox and Opera. */\n",
       "        border: none;\n",
       "        /* Needs to be in here for Safari polyfill so background images work as expected. */\n",
       "        background-size: auto;\n",
       "    }\n",
       "    progress:not([value]), progress:not([value])::-webkit-progress-bar {\n",
       "        background: repeating-linear-gradient(45deg, #7e7e7e, #7e7e7e 10px, #5c5c5c 10px, #5c5c5c 20px);\n",
       "    }\n",
       "    .progress-bar-interrupted, .progress-bar-interrupted::-webkit-progress-bar {\n",
       "        background: #F44336;\n",
       "    }\n",
       "</style>\n"
      ],
      "text/plain": [
       "<IPython.core.display.HTML object>"
      ]
     },
     "metadata": {},
     "output_type": "display_data"
    },
    {
     "data": {
      "text/html": [
       "<table border=\"1\" class=\"dataframe\">\n",
       "  <thead>\n",
       "    <tr style=\"text-align: left;\">\n",
       "      <th>epoch</th>\n",
       "      <th>train_loss</th>\n",
       "      <th>valid_loss</th>\n",
       "      <th>accuracy</th>\n",
       "      <th>time</th>\n",
       "    </tr>\n",
       "  </thead>\n",
       "  <tbody>\n",
       "    <tr>\n",
       "      <td>0</td>\n",
       "      <td>2.629126</td>\n",
       "      <td>0.512231</td>\n",
       "      <td>0.833333</td>\n",
       "      <td>01:36</td>\n",
       "    </tr>\n",
       "  </tbody>\n",
       "</table>"
      ],
      "text/plain": [
       "<IPython.core.display.HTML object>"
      ]
     },
     "metadata": {},
     "output_type": "display_data"
    },
    {
     "data": {
      "text/html": [
       "\n",
       "<style>\n",
       "    /* Turns off some styling */\n",
       "    progress {\n",
       "        /* gets rid of default border in Firefox and Opera. */\n",
       "        border: none;\n",
       "        /* Needs to be in here for Safari polyfill so background images work as expected. */\n",
       "        background-size: auto;\n",
       "    }\n",
       "    progress:not([value]), progress:not([value])::-webkit-progress-bar {\n",
       "        background: repeating-linear-gradient(45deg, #7e7e7e, #7e7e7e 10px, #5c5c5c 10px, #5c5c5c 20px);\n",
       "    }\n",
       "    .progress-bar-interrupted, .progress-bar-interrupted::-webkit-progress-bar {\n",
       "        background: #F44336;\n",
       "    }\n",
       "</style>\n"
      ],
      "text/plain": [
       "<IPython.core.display.HTML object>"
      ]
     },
     "metadata": {},
     "output_type": "display_data"
    },
    {
     "data": {
      "text/html": [
       "<table border=\"1\" class=\"dataframe\">\n",
       "  <thead>\n",
       "    <tr style=\"text-align: left;\">\n",
       "      <th>epoch</th>\n",
       "      <th>train_loss</th>\n",
       "      <th>valid_loss</th>\n",
       "      <th>accuracy</th>\n",
       "      <th>time</th>\n",
       "    </tr>\n",
       "  </thead>\n",
       "  <tbody>\n",
       "    <tr>\n",
       "      <td>0</td>\n",
       "      <td>0.657189</td>\n",
       "      <td>0.415829</td>\n",
       "      <td>0.848485</td>\n",
       "      <td>01:41</td>\n",
       "    </tr>\n",
       "    <tr>\n",
       "      <td>1</td>\n",
       "      <td>0.567310</td>\n",
       "      <td>0.188053</td>\n",
       "      <td>0.939394</td>\n",
       "      <td>01:41</td>\n",
       "    </tr>\n",
       "    <tr>\n",
       "      <td>2</td>\n",
       "      <td>0.383132</td>\n",
       "      <td>0.083265</td>\n",
       "      <td>0.984848</td>\n",
       "      <td>01:41</td>\n",
       "    </tr>\n",
       "    <tr>\n",
       "      <td>3</td>\n",
       "      <td>0.244810</td>\n",
       "      <td>0.045000</td>\n",
       "      <td>0.992424</td>\n",
       "      <td>01:41</td>\n",
       "    </tr>\n",
       "    <tr>\n",
       "      <td>4</td>\n",
       "      <td>0.178861</td>\n",
       "      <td>0.041053</td>\n",
       "      <td>0.984848</td>\n",
       "      <td>01:41</td>\n",
       "    </tr>\n",
       "    <tr>\n",
       "      <td>5</td>\n",
       "      <td>0.134551</td>\n",
       "      <td>0.039813</td>\n",
       "      <td>0.984848</td>\n",
       "      <td>01:41</td>\n",
       "    </tr>\n",
       "    <tr>\n",
       "      <td>6</td>\n",
       "      <td>0.094500</td>\n",
       "      <td>0.037551</td>\n",
       "      <td>0.992424</td>\n",
       "      <td>01:41</td>\n",
       "    </tr>\n",
       "  </tbody>\n",
       "</table>"
      ],
      "text/plain": [
       "<IPython.core.display.HTML object>"
      ]
     },
     "metadata": {},
     "output_type": "display_data"
    },
    {
     "name": "stdout",
     "output_type": "stream",
     "text": [
      "GPU:0\n",
      "process       3132 uses     7332.000 MB GPU memory\n"
     ]
    }
   ],
   "source": [
    "learn = train(arch='convnext_large_in22k',\n",
    "     item=Resize(224, method='squish'),\n",
    "     accum=4, epochs=7, finetune=True)\n",
    "clear_gpu()"
   ]
  },
  {
   "cell_type": "code",
   "execution_count": 8,
   "id": "6d6f4357",
   "metadata": {
    "execution": {
     "iopub.execute_input": "2025-09-11T03:01:07.356145Z",
     "iopub.status.busy": "2025-09-11T03:01:07.355901Z",
     "iopub.status.idle": "2025-09-11T03:01:08.570627Z",
     "shell.execute_reply": "2025-09-11T03:01:08.570040Z"
    },
    "papermill": {
     "duration": 1.220207,
     "end_time": "2025-09-11T03:01:08.571966",
     "exception": false,
     "start_time": "2025-09-11T03:01:07.351759",
     "status": "completed"
    },
    "tags": []
   },
   "outputs": [],
   "source": [
    "learn.export('/kaggle/working/model.pkl')"
   ]
  },
  {
   "cell_type": "markdown",
   "id": "048acf7b",
   "metadata": {
    "papermill": {
     "duration": 0.002743,
     "end_time": "2025-09-11T03:01:08.577910",
     "exception": false,
     "start_time": "2025-09-11T03:01:08.575167",
     "status": "completed"
    },
    "tags": []
   },
   "source": [
    "## Make the Submission"
   ]
  },
  {
   "cell_type": "code",
   "execution_count": 9,
   "id": "344f24f2",
   "metadata": {
    "execution": {
     "iopub.execute_input": "2025-09-11T03:01:08.584385Z",
     "iopub.status.busy": "2025-09-11T03:01:08.584135Z",
     "iopub.status.idle": "2025-09-11T03:01:08.588446Z",
     "shell.execute_reply": "2025-09-11T03:01:08.587888Z"
    },
    "papermill": {
     "duration": 0.008802,
     "end_time": "2025-09-11T03:01:08.589507",
     "exception": false,
     "start_time": "2025-09-11T03:01:08.580705",
     "status": "completed"
    },
    "tags": []
   },
   "outputs": [],
   "source": [
    "def sub(n):\n",
    "    tst_x = np.load(path/'X_test.npy')\n",
    "    tst_dl = learn.dls.test_dl(tst_x)\n",
    "    probs,_ = learn.tta(dl=tst_dl)\n",
    "    idxs = np.argmax(probs, axis=1)\n",
    "    preds = pd.Series(learn.dls.vocab[idxs], name='idxs')\n",
    "    subm = pd.DataFrame({'Id': np.arange(300), 'Class': preds})\n",
    "    subm.to_csv(f'sub{n}.csv', index=False)"
   ]
  },
  {
   "cell_type": "code",
   "execution_count": 10,
   "id": "9d9d50ba",
   "metadata": {
    "execution": {
     "iopub.execute_input": "2025-09-11T03:01:08.596024Z",
     "iopub.status.busy": "2025-09-11T03:01:08.595601Z",
     "iopub.status.idle": "2025-09-11T03:01:37.617207Z",
     "shell.execute_reply": "2025-09-11T03:01:37.616304Z"
    },
    "papermill": {
     "duration": 29.027136,
     "end_time": "2025-09-11T03:01:37.619444",
     "exception": false,
     "start_time": "2025-09-11T03:01:08.592308",
     "status": "completed"
    },
    "tags": []
   },
   "outputs": [
    {
     "name": "stderr",
     "output_type": "stream",
     "text": [
      "/usr/local/lib/python3.11/dist-packages/fastai/callback/fp16.py:47: FutureWarning: `torch.cuda.amp.autocast(args...)` is deprecated. Please use `torch.amp.autocast('cuda', args...)` instead.\n",
      "  self.autocast,self.learn.scaler,self.scales = autocast(dtype=dtype),GradScaler(**self.kwargs),L()\n",
      "/usr/local/lib/python3.11/dist-packages/fastai/callback/fp16.py:47: FutureWarning: `torch.cuda.amp.GradScaler(args...)` is deprecated. Please use `torch.amp.GradScaler('cuda', args...)` instead.\n",
      "  self.autocast,self.learn.scaler,self.scales = autocast(dtype=dtype),GradScaler(**self.kwargs),L()\n"
     ]
    },
    {
     "data": {
      "text/html": [
       "\n",
       "<style>\n",
       "    /* Turns off some styling */\n",
       "    progress {\n",
       "        /* gets rid of default border in Firefox and Opera. */\n",
       "        border: none;\n",
       "        /* Needs to be in here for Safari polyfill so background images work as expected. */\n",
       "        background-size: auto;\n",
       "    }\n",
       "    progress:not([value]), progress:not([value])::-webkit-progress-bar {\n",
       "        background: repeating-linear-gradient(45deg, #7e7e7e, #7e7e7e 10px, #5c5c5c 10px, #5c5c5c 20px);\n",
       "    }\n",
       "    .progress-bar-interrupted, .progress-bar-interrupted::-webkit-progress-bar {\n",
       "        background: #F44336;\n",
       "    }\n",
       "</style>\n"
      ],
      "text/plain": [
       "<IPython.core.display.HTML object>"
      ]
     },
     "metadata": {},
     "output_type": "display_data"
    },
    {
     "data": {
      "text/html": [
       "\n",
       "    <div>\n",
       "      <progress value='0' class='' max='7' style='width:300px; height:20px; vertical-align: middle;'></progress>\n",
       "      \n",
       "    </div>\n",
       "    \n"
      ],
      "text/plain": [
       "<IPython.core.display.HTML object>"
      ]
     },
     "metadata": {},
     "output_type": "display_data"
    },
    {
     "data": {
      "text/html": [
       "\n",
       "<style>\n",
       "    /* Turns off some styling */\n",
       "    progress {\n",
       "        /* gets rid of default border in Firefox and Opera. */\n",
       "        border: none;\n",
       "        /* Needs to be in here for Safari polyfill so background images work as expected. */\n",
       "        background-size: auto;\n",
       "    }\n",
       "    progress:not([value]), progress:not([value])::-webkit-progress-bar {\n",
       "        background: repeating-linear-gradient(45deg, #7e7e7e, #7e7e7e 10px, #5c5c5c 10px, #5c5c5c 20px);\n",
       "    }\n",
       "    .progress-bar-interrupted, .progress-bar-interrupted::-webkit-progress-bar {\n",
       "        background: #F44336;\n",
       "    }\n",
       "</style>\n"
      ],
      "text/plain": [
       "<IPython.core.display.HTML object>"
      ]
     },
     "metadata": {},
     "output_type": "display_data"
    },
    {
     "data": {
      "text/html": [],
      "text/plain": [
       "<IPython.core.display.HTML object>"
      ]
     },
     "metadata": {},
     "output_type": "display_data"
    }
   ],
   "source": [
    "sub(3)"
   ]
  },
  {
   "cell_type": "code",
   "execution_count": 11,
   "id": "dede3603",
   "metadata": {
    "execution": {
     "iopub.execute_input": "2025-09-11T03:01:37.638003Z",
     "iopub.status.busy": "2025-09-11T03:01:37.637584Z",
     "iopub.status.idle": "2025-09-11T03:01:37.795317Z",
     "shell.execute_reply": "2025-09-11T03:01:37.794267Z"
    },
    "papermill": {
     "duration": 0.163928,
     "end_time": "2025-09-11T03:01:37.797227",
     "exception": false,
     "start_time": "2025-09-11T03:01:37.633299",
     "status": "completed"
    },
    "tags": []
   },
   "outputs": [
    {
     "name": "stdout",
     "output_type": "stream",
     "text": [
      "Id,Class\r\n",
      "0,4\r\n",
      "1,16\r\n",
      "2,2\r\n",
      "3,18\r\n",
      "4,11\r\n",
      "5,5\r\n",
      "6,6\r\n",
      "7,4\r\n",
      "8,8\r\n"
     ]
    }
   ],
   "source": [
    "!head sub3.csv"
   ]
  }
 ],
 "metadata": {
  "kaggle": {
   "accelerator": "gpu",
   "dataSources": [
    {
     "databundleVersionId": 109648,
     "sourceId": 8375,
     "sourceType": "competition"
    }
   ],
   "dockerImageVersionId": 31090,
   "isGpuEnabled": true,
   "isInternetEnabled": true,
   "language": "python",
   "sourceType": "notebook"
  },
  "kernelspec": {
   "display_name": "Python 3 (ipykernel)",
   "language": "python",
   "name": "python3"
  },
  "language_info": {
   "codemirror_mode": {
    "name": "ipython",
    "version": 3
   },
   "file_extension": ".py",
   "mimetype": "text/x-python",
   "name": "python",
   "nbconvert_exporter": "python",
   "pygments_lexer": "ipython3",
   "version": "3.11.4"
  },
  "papermill": {
   "default_parameters": {},
   "duration": 869.550708,
   "end_time": "2025-09-11T03:01:40.735395",
   "environment_variables": {},
   "exception": null,
   "input_path": "__notebook__.ipynb",
   "output_path": "__notebook__.ipynb",
   "parameters": {},
   "start_time": "2025-09-11T02:47:11.184687",
   "version": "2.6.0"
  },
  "widgets": {
   "application/vnd.jupyter.widget-state+json": {
    "state": {
     "012bd7d3b9e6479ca44e809b1e562c5a": {
      "model_module": "@jupyter-widgets/base",
      "model_module_version": "2.0.0",
      "model_name": "LayoutModel",
      "state": {
       "_model_module": "@jupyter-widgets/base",
       "_model_module_version": "2.0.0",
       "_model_name": "LayoutModel",
       "_view_count": null,
       "_view_module": "@jupyter-widgets/base",
       "_view_module_version": "2.0.0",
       "_view_name": "LayoutView",
       "align_content": null,
       "align_items": null,
       "align_self": null,
       "border_bottom": null,
       "border_left": null,
       "border_right": null,
       "border_top": null,
       "bottom": null,
       "display": null,
       "flex": null,
       "flex_flow": null,
       "grid_area": null,
       "grid_auto_columns": null,
       "grid_auto_flow": null,
       "grid_auto_rows": null,
       "grid_column": null,
       "grid_gap": null,
       "grid_row": null,
       "grid_template_areas": null,
       "grid_template_columns": null,
       "grid_template_rows": null,
       "height": null,
       "justify_content": null,
       "justify_items": null,
       "left": null,
       "margin": null,
       "max_height": null,
       "max_width": null,
       "min_height": null,
       "min_width": null,
       "object_fit": null,
       "object_position": null,
       "order": null,
       "overflow": null,
       "padding": null,
       "right": null,
       "top": null,
       "visibility": null,
       "width": null
      }
     },
     "040912a98654420085402e6c277114e0": {
      "model_module": "@jupyter-widgets/controls",
      "model_module_version": "2.0.0",
      "model_name": "FloatProgressModel",
      "state": {
       "_dom_classes": [],
       "_model_module": "@jupyter-widgets/controls",
       "_model_module_version": "2.0.0",
       "_model_name": "FloatProgressModel",
       "_view_count": null,
       "_view_module": "@jupyter-widgets/controls",
       "_view_module_version": "2.0.0",
       "_view_name": "ProgressView",
       "bar_style": "success",
       "description": "",
       "description_allow_html": false,
       "layout": "IPY_MODEL_7d610460dd5e4bc3a37dc4b05bdda5e4",
       "max": 919234676,
       "min": 0,
       "orientation": "horizontal",
       "style": "IPY_MODEL_6ef961c6ee294131a972ef27b9a594c0",
       "tabbable": null,
       "tooltip": null,
       "value": 919234676
      }
     },
     "6b31b3a3bb544a689a1ba5aed9229cd0": {
      "model_module": "@jupyter-widgets/base",
      "model_module_version": "2.0.0",
      "model_name": "LayoutModel",
      "state": {
       "_model_module": "@jupyter-widgets/base",
       "_model_module_version": "2.0.0",
       "_model_name": "LayoutModel",
       "_view_count": null,
       "_view_module": "@jupyter-widgets/base",
       "_view_module_version": "2.0.0",
       "_view_name": "LayoutView",
       "align_content": null,
       "align_items": null,
       "align_self": null,
       "border_bottom": null,
       "border_left": null,
       "border_right": null,
       "border_top": null,
       "bottom": null,
       "display": null,
       "flex": null,
       "flex_flow": null,
       "grid_area": null,
       "grid_auto_columns": null,
       "grid_auto_flow": null,
       "grid_auto_rows": null,
       "grid_column": null,
       "grid_gap": null,
       "grid_row": null,
       "grid_template_areas": null,
       "grid_template_columns": null,
       "grid_template_rows": null,
       "height": null,
       "justify_content": null,
       "justify_items": null,
       "left": null,
       "margin": null,
       "max_height": null,
       "max_width": null,
       "min_height": null,
       "min_width": null,
       "object_fit": null,
       "object_position": null,
       "order": null,
       "overflow": null,
       "padding": null,
       "right": null,
       "top": null,
       "visibility": null,
       "width": null
      }
     },
     "6ef961c6ee294131a972ef27b9a594c0": {
      "model_module": "@jupyter-widgets/controls",
      "model_module_version": "2.0.0",
      "model_name": "ProgressStyleModel",
      "state": {
       "_model_module": "@jupyter-widgets/controls",
       "_model_module_version": "2.0.0",
       "_model_name": "ProgressStyleModel",
       "_view_count": null,
       "_view_module": "@jupyter-widgets/base",
       "_view_module_version": "2.0.0",
       "_view_name": "StyleView",
       "bar_color": null,
       "description_width": ""
      }
     },
     "7b74b6f622e843b8975d236d0d34cb40": {
      "model_module": "@jupyter-widgets/base",
      "model_module_version": "2.0.0",
      "model_name": "LayoutModel",
      "state": {
       "_model_module": "@jupyter-widgets/base",
       "_model_module_version": "2.0.0",
       "_model_name": "LayoutModel",
       "_view_count": null,
       "_view_module": "@jupyter-widgets/base",
       "_view_module_version": "2.0.0",
       "_view_name": "LayoutView",
       "align_content": null,
       "align_items": null,
       "align_self": null,
       "border_bottom": null,
       "border_left": null,
       "border_right": null,
       "border_top": null,
       "bottom": null,
       "display": null,
       "flex": null,
       "flex_flow": null,
       "grid_area": null,
       "grid_auto_columns": null,
       "grid_auto_flow": null,
       "grid_auto_rows": null,
       "grid_column": null,
       "grid_gap": null,
       "grid_row": null,
       "grid_template_areas": null,
       "grid_template_columns": null,
       "grid_template_rows": null,
       "height": null,
       "justify_content": null,
       "justify_items": null,
       "left": null,
       "margin": null,
       "max_height": null,
       "max_width": null,
       "min_height": null,
       "min_width": null,
       "object_fit": null,
       "object_position": null,
       "order": null,
       "overflow": null,
       "padding": null,
       "right": null,
       "top": null,
       "visibility": null,
       "width": null
      }
     },
     "7d610460dd5e4bc3a37dc4b05bdda5e4": {
      "model_module": "@jupyter-widgets/base",
      "model_module_version": "2.0.0",
      "model_name": "LayoutModel",
      "state": {
       "_model_module": "@jupyter-widgets/base",
       "_model_module_version": "2.0.0",
       "_model_name": "LayoutModel",
       "_view_count": null,
       "_view_module": "@jupyter-widgets/base",
       "_view_module_version": "2.0.0",
       "_view_name": "LayoutView",
       "align_content": null,
       "align_items": null,
       "align_self": null,
       "border_bottom": null,
       "border_left": null,
       "border_right": null,
       "border_top": null,
       "bottom": null,
       "display": null,
       "flex": null,
       "flex_flow": null,
       "grid_area": null,
       "grid_auto_columns": null,
       "grid_auto_flow": null,
       "grid_auto_rows": null,
       "grid_column": null,
       "grid_gap": null,
       "grid_row": null,
       "grid_template_areas": null,
       "grid_template_columns": null,
       "grid_template_rows": null,
       "height": null,
       "justify_content": null,
       "justify_items": null,
       "left": null,
       "margin": null,
       "max_height": null,
       "max_width": null,
       "min_height": null,
       "min_width": null,
       "object_fit": null,
       "object_position": null,
       "order": null,
       "overflow": null,
       "padding": null,
       "right": null,
       "top": null,
       "visibility": null,
       "width": null
      }
     },
     "7de18a98abdf4fca8f7808e51681e8be": {
      "model_module": "@jupyter-widgets/controls",
      "model_module_version": "2.0.0",
      "model_name": "HBoxModel",
      "state": {
       "_dom_classes": [],
       "_model_module": "@jupyter-widgets/controls",
       "_model_module_version": "2.0.0",
       "_model_name": "HBoxModel",
       "_view_count": null,
       "_view_module": "@jupyter-widgets/controls",
       "_view_module_version": "2.0.0",
       "_view_name": "HBoxView",
       "box_style": "",
       "children": [
        "IPY_MODEL_fbd0b9b062794eb9927ff4b653e99997",
        "IPY_MODEL_040912a98654420085402e6c277114e0",
        "IPY_MODEL_fd4478b832e14bbfb61316e5ae9b0024"
       ],
       "layout": "IPY_MODEL_6b31b3a3bb544a689a1ba5aed9229cd0",
       "tabbable": null,
       "tooltip": null
      }
     },
     "94e2eac154b14ea5891b2eaadf7ac18b": {
      "model_module": "@jupyter-widgets/controls",
      "model_module_version": "2.0.0",
      "model_name": "HTMLStyleModel",
      "state": {
       "_model_module": "@jupyter-widgets/controls",
       "_model_module_version": "2.0.0",
       "_model_name": "HTMLStyleModel",
       "_view_count": null,
       "_view_module": "@jupyter-widgets/base",
       "_view_module_version": "2.0.0",
       "_view_name": "StyleView",
       "background": null,
       "description_width": "",
       "font_size": null,
       "text_color": null
      }
     },
     "ed8ebfcbaf074e4fbb81b4e3df68f300": {
      "model_module": "@jupyter-widgets/controls",
      "model_module_version": "2.0.0",
      "model_name": "HTMLStyleModel",
      "state": {
       "_model_module": "@jupyter-widgets/controls",
       "_model_module_version": "2.0.0",
       "_model_name": "HTMLStyleModel",
       "_view_count": null,
       "_view_module": "@jupyter-widgets/base",
       "_view_module_version": "2.0.0",
       "_view_name": "StyleView",
       "background": null,
       "description_width": "",
       "font_size": null,
       "text_color": null
      }
     },
     "fbd0b9b062794eb9927ff4b653e99997": {
      "model_module": "@jupyter-widgets/controls",
      "model_module_version": "2.0.0",
      "model_name": "HTMLModel",
      "state": {
       "_dom_classes": [],
       "_model_module": "@jupyter-widgets/controls",
       "_model_module_version": "2.0.0",
       "_model_name": "HTMLModel",
       "_view_count": null,
       "_view_module": "@jupyter-widgets/controls",
       "_view_module_version": "2.0.0",
       "_view_name": "HTMLView",
       "description": "",
       "description_allow_html": false,
       "layout": "IPY_MODEL_7b74b6f622e843b8975d236d0d34cb40",
       "placeholder": "​",
       "style": "IPY_MODEL_94e2eac154b14ea5891b2eaadf7ac18b",
       "tabbable": null,
       "tooltip": null,
       "value": "model.safetensors: 100%"
      }
     },
     "fd4478b832e14bbfb61316e5ae9b0024": {
      "model_module": "@jupyter-widgets/controls",
      "model_module_version": "2.0.0",
      "model_name": "HTMLModel",
      "state": {
       "_dom_classes": [],
       "_model_module": "@jupyter-widgets/controls",
       "_model_module_version": "2.0.0",
       "_model_name": "HTMLModel",
       "_view_count": null,
       "_view_module": "@jupyter-widgets/controls",
       "_view_module_version": "2.0.0",
       "_view_name": "HTMLView",
       "description": "",
       "description_allow_html": false,
       "layout": "IPY_MODEL_012bd7d3b9e6479ca44e809b1e562c5a",
       "placeholder": "​",
       "style": "IPY_MODEL_ed8ebfcbaf074e4fbb81b4e3df68f300",
       "tabbable": null,
       "tooltip": null,
       "value": " 919M/919M [00:02&lt;00:00, 371MB/s]"
      }
     }
    },
    "version_major": 2,
    "version_minor": 0
   }
  }
 },
 "nbformat": 4,
 "nbformat_minor": 5
}
